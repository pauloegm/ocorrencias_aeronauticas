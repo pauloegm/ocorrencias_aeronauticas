{
  "nbformat": 4,
  "nbformat_minor": 0,
  "metadata": {
    "colab": {
      "name": "ocorrencias_aeronauticas.ipynb",
      "provenance": [],
      "collapsed_sections": []
    },
    "kernelspec": {
      "name": "python3",
      "display_name": "Python 3"
    },
    "language_info": {
      "name": "python"
    }
  },
  "cells": [
    {
      "cell_type": "markdown",
      "metadata": {
        "id": "OxHdrennbUqp"
      },
      "source": [
        "# **Ocorrências Aeronáuticas**"
      ]
    },
    {
      "cell_type": "markdown",
      "metadata": {
        "id": "AnanmnTabkjC"
      },
      "source": [
        "## Informações Gerais"
      ]
    },
    {
      "cell_type": "markdown",
      "metadata": {
        "id": "QpYKVc09bt1P"
      },
      "source": [
        "A base de dados de ocorrências aeronáuticas é gerenciada pelo Centro de Investigação e Prevenção de Acidentes Aeronáuticos (CENIPA). Constam nesta base de dados as ocorrências aeronáuticas notificadas ao CENIPA nos últimos 10 anos e que ocorreram em solo brasileiro. \n",
        "\n",
        "URL: https://dados.gov.br/dataset/ocorrencias-aeronauticas-da-aviacao-civil-brasileira\n",
        "\n",
        "BASES DE DADOS UTILIZADAS:\n",
        "*   OCORRÊNCIA.csv - Informações sobre as ocorrências.\n",
        "*   AERONAVE.csv - Informações sobre as aeronaves envolvidas nas ocorrências.\n"
      ]
    },
    {
      "cell_type": "markdown",
      "metadata": {
        "id": "L1oGv9xacAAp"
      },
      "source": [
        "## Identificação do problema a ser abordado"
      ]
    },
    {
      "cell_type": "markdown",
      "metadata": {
        "id": "9E4uFnFgJ-3k"
      },
      "source": [
        "Cliente deseja saber se entre todas as ocorências notificadas (acidente, incidente leve, incidente grave), se é possivel prever a chance de um Acidente ocorrer."
      ]
    },
    {
      "cell_type": "markdown",
      "metadata": {
        "id": "0ghNWLcocQS9"
      },
      "source": [
        "## Importação dos pacotes necessários"
      ]
    },
    {
      "cell_type": "code",
      "metadata": {
        "id": "hmpxvSFZcCPx"
      },
      "source": [
        "import pandas as pd\n",
        "import numpy as np\n",
        "import matplotlib.pyplot as plt\n",
        "from sklearn.preprocessing import LabelEncoder\n",
        "from sklearn.model_selection import train_test_split\n",
        "from sklearn.neighbors import KNeighborsClassifier\n",
        "from sklearn.ensemble import RandomForestClassifier \n",
        "from sklearn.metrics import classification_report,confusion_matrix,accuracy_score\n",
        "from xgboost import XGBClassifier\n",
        "from xgboost import plot_importance\n",
        "from sklearn.ensemble import VotingClassifier\n",
        "\n",
        "from google.colab import files"
      ],
      "execution_count": 1,
      "outputs": []
    },
    {
      "cell_type": "code",
      "metadata": {
        "id": "FuKHlptgjaVF"
      },
      "source": [
        "#configurações para ajudar na visualização dos dados\n",
        "np.set_printoptions(threshold=None, precision=2)\n",
        "pd.set_option('display.max_columns', 500)\n",
        "pd.set_option('display.max_rows', 500)\n",
        "pd.set_option('precision', 2)"
      ],
      "execution_count": 2,
      "outputs": []
    },
    {
      "cell_type": "markdown",
      "metadata": {
        "id": "cOnBsPHqdEbY"
      },
      "source": [
        "##Leitura e análise da base principal"
      ]
    },
    {
      "cell_type": "code",
      "metadata": {
        "id": "czzl1AmRdKjI",
        "colab": {
          "resources": {
            "http://localhost:8080/nbextensions/google.colab/files.js": {
              "data": "Ly8gQ29weXJpZ2h0IDIwMTcgR29vZ2xlIExMQwovLwovLyBMaWNlbnNlZCB1bmRlciB0aGUgQXBhY2hlIExpY2Vuc2UsIFZlcnNpb24gMi4wICh0aGUgIkxpY2Vuc2UiKTsKLy8geW91IG1heSBub3QgdXNlIHRoaXMgZmlsZSBleGNlcHQgaW4gY29tcGxpYW5jZSB3aXRoIHRoZSBMaWNlbnNlLgovLyBZb3UgbWF5IG9idGFpbiBhIGNvcHkgb2YgdGhlIExpY2Vuc2UgYXQKLy8KLy8gICAgICBodHRwOi8vd3d3LmFwYWNoZS5vcmcvbGljZW5zZXMvTElDRU5TRS0yLjAKLy8KLy8gVW5sZXNzIHJlcXVpcmVkIGJ5IGFwcGxpY2FibGUgbGF3IG9yIGFncmVlZCB0byBpbiB3cml0aW5nLCBzb2Z0d2FyZQovLyBkaXN0cmlidXRlZCB1bmRlciB0aGUgTGljZW5zZSBpcyBkaXN0cmlidXRlZCBvbiBhbiAiQVMgSVMiIEJBU0lTLAovLyBXSVRIT1VUIFdBUlJBTlRJRVMgT1IgQ09ORElUSU9OUyBPRiBBTlkgS0lORCwgZWl0aGVyIGV4cHJlc3Mgb3IgaW1wbGllZC4KLy8gU2VlIHRoZSBMaWNlbnNlIGZvciB0aGUgc3BlY2lmaWMgbGFuZ3VhZ2UgZ292ZXJuaW5nIHBlcm1pc3Npb25zIGFuZAovLyBsaW1pdGF0aW9ucyB1bmRlciB0aGUgTGljZW5zZS4KCi8qKgogKiBAZmlsZW92ZXJ2aWV3IEhlbHBlcnMgZm9yIGdvb2dsZS5jb2xhYiBQeXRob24gbW9kdWxlLgogKi8KKGZ1bmN0aW9uKHNjb3BlKSB7CmZ1bmN0aW9uIHNwYW4odGV4dCwgc3R5bGVBdHRyaWJ1dGVzID0ge30pIHsKICBjb25zdCBlbGVtZW50ID0gZG9jdW1lbnQuY3JlYXRlRWxlbWVudCgnc3BhbicpOwogIGVsZW1lbnQudGV4dENvbnRlbnQgPSB0ZXh0OwogIGZvciAoY29uc3Qga2V5IG9mIE9iamVjdC5rZXlzKHN0eWxlQXR0cmlidXRlcykpIHsKICAgIGVsZW1lbnQuc3R5bGVba2V5XSA9IHN0eWxlQXR0cmlidXRlc1trZXldOwogIH0KICByZXR1cm4gZWxlbWVudDsKfQoKLy8gTWF4IG51bWJlciBvZiBieXRlcyB3aGljaCB3aWxsIGJlIHVwbG9hZGVkIGF0IGEgdGltZS4KY29uc3QgTUFYX1BBWUxPQURfU0laRSA9IDEwMCAqIDEwMjQ7CgpmdW5jdGlvbiBfdXBsb2FkRmlsZXMoaW5wdXRJZCwgb3V0cHV0SWQpIHsKICBjb25zdCBzdGVwcyA9IHVwbG9hZEZpbGVzU3RlcChpbnB1dElkLCBvdXRwdXRJZCk7CiAgY29uc3Qgb3V0cHV0RWxlbWVudCA9IGRvY3VtZW50LmdldEVsZW1lbnRCeUlkKG91dHB1dElkKTsKICAvLyBDYWNoZSBzdGVwcyBvbiB0aGUgb3V0cHV0RWxlbWVudCB0byBtYWtlIGl0IGF2YWlsYWJsZSBmb3IgdGhlIG5leHQgY2FsbAogIC8vIHRvIHVwbG9hZEZpbGVzQ29udGludWUgZnJvbSBQeXRob24uCiAgb3V0cHV0RWxlbWVudC5zdGVwcyA9IHN0ZXBzOwoKICByZXR1cm4gX3VwbG9hZEZpbGVzQ29udGludWUob3V0cHV0SWQpOwp9CgovLyBUaGlzIGlzIHJvdWdobHkgYW4gYXN5bmMgZ2VuZXJhdG9yIChub3Qgc3VwcG9ydGVkIGluIHRoZSBicm93c2VyIHlldCksCi8vIHdoZXJlIHRoZXJlIGFyZSBtdWx0aXBsZSBhc3luY2hyb25vdXMgc3RlcHMgYW5kIHRoZSBQeXRob24gc2lkZSBpcyBnb2luZwovLyB0byBwb2xsIGZvciBjb21wbGV0aW9uIG9mIGVhY2ggc3RlcC4KLy8gVGhpcyB1c2VzIGEgUHJvbWlzZSB0byBibG9jayB0aGUgcHl0aG9uIHNpZGUgb24gY29tcGxldGlvbiBvZiBlYWNoIHN0ZXAsCi8vIHRoZW4gcGFzc2VzIHRoZSByZXN1bHQgb2YgdGhlIHByZXZpb3VzIHN0ZXAgYXMgdGhlIGlucHV0IHRvIHRoZSBuZXh0IHN0ZXAuCmZ1bmN0aW9uIF91cGxvYWRGaWxlc0NvbnRpbnVlKG91dHB1dElkKSB7CiAgY29uc3Qgb3V0cHV0RWxlbWVudCA9IGRvY3VtZW50LmdldEVsZW1lbnRCeUlkKG91dHB1dElkKTsKICBjb25zdCBzdGVwcyA9IG91dHB1dEVsZW1lbnQuc3RlcHM7CgogIGNvbnN0IG5leHQgPSBzdGVwcy5uZXh0KG91dHB1dEVsZW1lbnQubGFzdFByb21pc2VWYWx1ZSk7CiAgcmV0dXJuIFByb21pc2UucmVzb2x2ZShuZXh0LnZhbHVlLnByb21pc2UpLnRoZW4oKHZhbHVlKSA9PiB7CiAgICAvLyBDYWNoZSB0aGUgbGFzdCBwcm9taXNlIHZhbHVlIHRvIG1ha2UgaXQgYXZhaWxhYmxlIHRvIHRoZSBuZXh0CiAgICAvLyBzdGVwIG9mIHRoZSBnZW5lcmF0b3IuCiAgICBvdXRwdXRFbGVtZW50Lmxhc3RQcm9taXNlVmFsdWUgPSB2YWx1ZTsKICAgIHJldHVybiBuZXh0LnZhbHVlLnJlc3BvbnNlOwogIH0pOwp9CgovKioKICogR2VuZXJhdG9yIGZ1bmN0aW9uIHdoaWNoIGlzIGNhbGxlZCBiZXR3ZWVuIGVhY2ggYXN5bmMgc3RlcCBvZiB0aGUgdXBsb2FkCiAqIHByb2Nlc3MuCiAqIEBwYXJhbSB7c3RyaW5nfSBpbnB1dElkIEVsZW1lbnQgSUQgb2YgdGhlIGlucHV0IGZpbGUgcGlja2VyIGVsZW1lbnQuCiAqIEBwYXJhbSB7c3RyaW5nfSBvdXRwdXRJZCBFbGVtZW50IElEIG9mIHRoZSBvdXRwdXQgZGlzcGxheS4KICogQHJldHVybiB7IUl0ZXJhYmxlPCFPYmplY3Q+fSBJdGVyYWJsZSBvZiBuZXh0IHN0ZXBzLgogKi8KZnVuY3Rpb24qIHVwbG9hZEZpbGVzU3RlcChpbnB1dElkLCBvdXRwdXRJZCkgewogIGNvbnN0IGlucHV0RWxlbWVudCA9IGRvY3VtZW50LmdldEVsZW1lbnRCeUlkKGlucHV0SWQpOwogIGlucHV0RWxlbWVudC5kaXNhYmxlZCA9IGZhbHNlOwoKICBjb25zdCBvdXRwdXRFbGVtZW50ID0gZG9jdW1lbnQuZ2V0RWxlbWVudEJ5SWQob3V0cHV0SWQpOwogIG91dHB1dEVsZW1lbnQuaW5uZXJIVE1MID0gJyc7CgogIGNvbnN0IHBpY2tlZFByb21pc2UgPSBuZXcgUHJvbWlzZSgocmVzb2x2ZSkgPT4gewogICAgaW5wdXRFbGVtZW50LmFkZEV2ZW50TGlzdGVuZXIoJ2NoYW5nZScsIChlKSA9PiB7CiAgICAgIHJlc29sdmUoZS50YXJnZXQuZmlsZXMpOwogICAgfSk7CiAgfSk7CgogIGNvbnN0IGNhbmNlbCA9IGRvY3VtZW50LmNyZWF0ZUVsZW1lbnQoJ2J1dHRvbicpOwogIGlucHV0RWxlbWVudC5wYXJlbnRFbGVtZW50LmFwcGVuZENoaWxkKGNhbmNlbCk7CiAgY2FuY2VsLnRleHRDb250ZW50ID0gJ0NhbmNlbCB1cGxvYWQnOwogIGNvbnN0IGNhbmNlbFByb21pc2UgPSBuZXcgUHJvbWlzZSgocmVzb2x2ZSkgPT4gewogICAgY2FuY2VsLm9uY2xpY2sgPSAoKSA9PiB7CiAgICAgIHJlc29sdmUobnVsbCk7CiAgICB9OwogIH0pOwoKICAvLyBXYWl0IGZvciB0aGUgdXNlciB0byBwaWNrIHRoZSBmaWxlcy4KICBjb25zdCBmaWxlcyA9IHlpZWxkIHsKICAgIHByb21pc2U6IFByb21pc2UucmFjZShbcGlja2VkUHJvbWlzZSwgY2FuY2VsUHJvbWlzZV0pLAogICAgcmVzcG9uc2U6IHsKICAgICAgYWN0aW9uOiAnc3RhcnRpbmcnLAogICAgfQogIH07CgogIGNhbmNlbC5yZW1vdmUoKTsKCiAgLy8gRGlzYWJsZSB0aGUgaW5wdXQgZWxlbWVudCBzaW5jZSBmdXJ0aGVyIHBpY2tzIGFyZSBub3QgYWxsb3dlZC4KICBpbnB1dEVsZW1lbnQuZGlzYWJsZWQgPSB0cnVlOwoKICBpZiAoIWZpbGVzKSB7CiAgICByZXR1cm4gewogICAgICByZXNwb25zZTogewogICAgICAgIGFjdGlvbjogJ2NvbXBsZXRlJywKICAgICAgfQogICAgfTsKICB9CgogIGZvciAoY29uc3QgZmlsZSBvZiBmaWxlcykgewogICAgY29uc3QgbGkgPSBkb2N1bWVudC5jcmVhdGVFbGVtZW50KCdsaScpOwogICAgbGkuYXBwZW5kKHNwYW4oZmlsZS5uYW1lLCB7Zm9udFdlaWdodDogJ2JvbGQnfSkpOwogICAgbGkuYXBwZW5kKHNwYW4oCiAgICAgICAgYCgke2ZpbGUudHlwZSB8fCAnbi9hJ30pIC0gJHtmaWxlLnNpemV9IGJ5dGVzLCBgICsKICAgICAgICBgbGFzdCBtb2RpZmllZDogJHsKICAgICAgICAgICAgZmlsZS5sYXN0TW9kaWZpZWREYXRlID8gZmlsZS5sYXN0TW9kaWZpZWREYXRlLnRvTG9jYWxlRGF0ZVN0cmluZygpIDoKICAgICAgICAgICAgICAgICAgICAgICAgICAgICAgICAgICAgJ24vYSd9IC0gYCkpOwogICAgY29uc3QgcGVyY2VudCA9IHNwYW4oJzAlIGRvbmUnKTsKICAgIGxpLmFwcGVuZENoaWxkKHBlcmNlbnQpOwoKICAgIG91dHB1dEVsZW1lbnQuYXBwZW5kQ2hpbGQobGkpOwoKICAgIGNvbnN0IGZpbGVEYXRhUHJvbWlzZSA9IG5ldyBQcm9taXNlKChyZXNvbHZlKSA9PiB7CiAgICAgIGNvbnN0IHJlYWRlciA9IG5ldyBGaWxlUmVhZGVyKCk7CiAgICAgIHJlYWRlci5vbmxvYWQgPSAoZSkgPT4gewogICAgICAgIHJlc29sdmUoZS50YXJnZXQucmVzdWx0KTsKICAgICAgfTsKICAgICAgcmVhZGVyLnJlYWRBc0FycmF5QnVmZmVyKGZpbGUpOwogICAgfSk7CiAgICAvLyBXYWl0IGZvciB0aGUgZGF0YSB0byBiZSByZWFkeS4KICAgIGxldCBmaWxlRGF0YSA9IHlpZWxkIHsKICAgICAgcHJvbWlzZTogZmlsZURhdGFQcm9taXNlLAogICAgICByZXNwb25zZTogewogICAgICAgIGFjdGlvbjogJ2NvbnRpbnVlJywKICAgICAgfQogICAgfTsKCiAgICAvLyBVc2UgYSBjaHVua2VkIHNlbmRpbmcgdG8gYXZvaWQgbWVzc2FnZSBzaXplIGxpbWl0cy4gU2VlIGIvNjIxMTU2NjAuCiAgICBsZXQgcG9zaXRpb24gPSAwOwogICAgZG8gewogICAgICBjb25zdCBsZW5ndGggPSBNYXRoLm1pbihmaWxlRGF0YS5ieXRlTGVuZ3RoIC0gcG9zaXRpb24sIE1BWF9QQVlMT0FEX1NJWkUpOwogICAgICBjb25zdCBjaHVuayA9IG5ldyBVaW50OEFycmF5KGZpbGVEYXRhLCBwb3NpdGlvbiwgbGVuZ3RoKTsKICAgICAgcG9zaXRpb24gKz0gbGVuZ3RoOwoKICAgICAgY29uc3QgYmFzZTY0ID0gYnRvYShTdHJpbmcuZnJvbUNoYXJDb2RlLmFwcGx5KG51bGwsIGNodW5rKSk7CiAgICAgIHlpZWxkIHsKICAgICAgICByZXNwb25zZTogewogICAgICAgICAgYWN0aW9uOiAnYXBwZW5kJywKICAgICAgICAgIGZpbGU6IGZpbGUubmFtZSwKICAgICAgICAgIGRhdGE6IGJhc2U2NCwKICAgICAgICB9LAogICAgICB9OwoKICAgICAgbGV0IHBlcmNlbnREb25lID0gZmlsZURhdGEuYnl0ZUxlbmd0aCA9PT0gMCA/CiAgICAgICAgICAxMDAgOgogICAgICAgICAgTWF0aC5yb3VuZCgocG9zaXRpb24gLyBmaWxlRGF0YS5ieXRlTGVuZ3RoKSAqIDEwMCk7CiAgICAgIHBlcmNlbnQudGV4dENvbnRlbnQgPSBgJHtwZXJjZW50RG9uZX0lIGRvbmVgOwoKICAgIH0gd2hpbGUgKHBvc2l0aW9uIDwgZmlsZURhdGEuYnl0ZUxlbmd0aCk7CiAgfQoKICAvLyBBbGwgZG9uZS4KICB5aWVsZCB7CiAgICByZXNwb25zZTogewogICAgICBhY3Rpb246ICdjb21wbGV0ZScsCiAgICB9CiAgfTsKfQoKc2NvcGUuZ29vZ2xlID0gc2NvcGUuZ29vZ2xlIHx8IHt9OwpzY29wZS5nb29nbGUuY29sYWIgPSBzY29wZS5nb29nbGUuY29sYWIgfHwge307CnNjb3BlLmdvb2dsZS5jb2xhYi5fZmlsZXMgPSB7CiAgX3VwbG9hZEZpbGVzLAogIF91cGxvYWRGaWxlc0NvbnRpbnVlLAp9Owp9KShzZWxmKTsK",
              "ok": true,
              "headers": [
                [
                  "content-type",
                  "application/javascript"
                ]
              ],
              "status": 200,
              "status_text": "OK"
            }
          },
          "base_uri": "https://localhost:8080/",
          "height": 75
        },
        "outputId": "5a66e03b-4fe5-4695-f307-273e2f08b912"
      },
      "source": [
        "#carregando a base principal\n",
        "\n",
        "uploaded = files.upload()\n",
        "df_ocorrencias = pd.read_csv('ocorrencia_2010_2020.csv', sep=';')"
      ],
      "execution_count": 3,
      "outputs": [
        {
          "output_type": "display_data",
          "data": {
            "text/html": [
              "\n",
              "     <input type=\"file\" id=\"files-d818fb46-fd2c-4620-95ae-155993a1a942\" name=\"files[]\" multiple disabled\n",
              "        style=\"border:none\" />\n",
              "     <output id=\"result-d818fb46-fd2c-4620-95ae-155993a1a942\">\n",
              "      Upload widget is only available when the cell has been executed in the\n",
              "      current browser session. Please rerun this cell to enable.\n",
              "      </output>\n",
              "      <script src=\"/nbextensions/google.colab/files.js\"></script> "
            ],
            "text/plain": [
              "<IPython.core.display.HTML object>"
            ]
          },
          "metadata": {
            "tags": []
          }
        },
        {
          "output_type": "stream",
          "text": [
            "Saving ocorrencia_2010_2020.csv to ocorrencia_2010_2020 (11).csv\n"
          ],
          "name": "stdout"
        }
      ]
    },
    {
      "cell_type": "code",
      "metadata": {
        "colab": {
          "base_uri": "https://localhost:8080/"
        },
        "id": "ZGaVPxcEeEsm",
        "outputId": "97575b52-ad52-44ef-a2ea-158d63900f67"
      },
      "source": [
        "#analise inicial da base\n",
        "\n",
        "print(\"\\nDimensões:\\n{0}\\n\".format(df_ocorrencias.shape))\n",
        "print(\"\\nCampos:\\n{0}\\n\".format(list(df_ocorrencias.keys())))\n",
        "print(\"\\nTipos dos dados:\\n{0}\\n\".format(df_ocorrencias.info()))\n"
      ],
      "execution_count": 4,
      "outputs": [
        {
          "output_type": "stream",
          "text": [
            "\n",
            "Dimensões:\n",
            "(5752, 22)\n",
            "\n",
            "\n",
            "Campos:\n",
            "['codigo_ocorrencia', 'codigo_ocorrencia1', 'codigo_ocorrencia2', 'codigo_ocorrencia3', 'codigo_ocorrencia4', 'ocorrencia_classificacao', 'ocorrencia_latitude', 'ocorrencia_longitude', 'ocorrencia_cidade', 'ocorrencia_uf', 'ocorrencia_pais', 'ocorrencia_aerodromo', 'ocorrencia_dia', 'ocorrencia_hora', 'investigacao_aeronave_liberada', 'investigacao_status', 'divulgacao_relatorio_numero', 'divulgacao_relatorio_publicado', 'divulgacao_dia_publicacao', 'total_recomendacoes', 'total_aeronaves_envolvidas', 'ocorrencia_saida_pista']\n",
            "\n",
            "<class 'pandas.core.frame.DataFrame'>\n",
            "RangeIndex: 5752 entries, 0 to 5751\n",
            "Data columns (total 22 columns):\n",
            " #   Column                          Non-Null Count  Dtype \n",
            "---  ------                          --------------  ----- \n",
            " 0   codigo_ocorrencia               5752 non-null   int64 \n",
            " 1   codigo_ocorrencia1              5752 non-null   int64 \n",
            " 2   codigo_ocorrencia2              5752 non-null   int64 \n",
            " 3   codigo_ocorrencia3              5752 non-null   int64 \n",
            " 4   codigo_ocorrencia4              5752 non-null   int64 \n",
            " 5   ocorrencia_classificacao        5752 non-null   object\n",
            " 6   ocorrencia_latitude             4187 non-null   object\n",
            " 7   ocorrencia_longitude            4187 non-null   object\n",
            " 8   ocorrencia_cidade               5752 non-null   object\n",
            " 9   ocorrencia_uf                   5752 non-null   object\n",
            " 10  ocorrencia_pais                 5752 non-null   object\n",
            " 11  ocorrencia_aerodromo            5752 non-null   object\n",
            " 12  ocorrencia_dia                  5752 non-null   object\n",
            " 13  ocorrencia_hora                 5751 non-null   object\n",
            " 14  investigacao_aeronave_liberada  5411 non-null   object\n",
            " 15  investigacao_status             5412 non-null   object\n",
            " 16  divulgacao_relatorio_numero     4887 non-null   object\n",
            " 17  divulgacao_relatorio_publicado  5752 non-null   object\n",
            " 18  divulgacao_dia_publicacao       1494 non-null   object\n",
            " 19  total_recomendacoes             5752 non-null   int64 \n",
            " 20  total_aeronaves_envolvidas      5752 non-null   int64 \n",
            " 21  ocorrencia_saida_pista          5752 non-null   object\n",
            "dtypes: int64(7), object(15)\n",
            "memory usage: 988.8+ KB\n",
            "\n",
            "Tipos dos dados:\n",
            "None\n",
            "\n"
          ],
          "name": "stdout"
        }
      ]
    },
    {
      "cell_type": "code",
      "metadata": {
        "colab": {
          "base_uri": "https://localhost:8080/"
        },
        "id": "OnSmAcd8i7yX",
        "outputId": "a511b6c0-a150-4386-f32c-9394b45b37f6"
      },
      "source": [
        "#estatistica descritiva dos dados\n",
        "\n",
        "print(df_ocorrencias.describe())\n",
        "categ = df_ocorrencias.dtypes[df_ocorrencias.dtypes == \"object\"].index\n",
        "print(\"\\n\", df_ocorrencias[categ].describe(), sep='\\n')"
      ],
      "execution_count": 5,
      "outputs": [
        {
          "output_type": "stream",
          "text": [
            "       codigo_ocorrencia  codigo_ocorrencia1  codigo_ocorrencia2  \\\n",
            "count            5752.00             5752.00             5752.00   \n",
            "mean            58504.21            58504.21            58504.21   \n",
            "std             14060.29            14060.29            14060.29   \n",
            "min             39115.00            39115.00            39115.00   \n",
            "25%             46366.50            46366.50            46366.50   \n",
            "50%             52692.50            52692.50            52692.50   \n",
            "75%             77653.75            77653.75            77653.75   \n",
            "max             79874.00            79874.00            79874.00   \n",
            "\n",
            "       codigo_ocorrencia3  codigo_ocorrencia4  total_recomendacoes  \\\n",
            "count             5752.00             5752.00              5752.00   \n",
            "mean             58504.21            58504.21                 0.30   \n",
            "std              14060.29            14060.29                 1.15   \n",
            "min              39115.00            39115.00                 0.00   \n",
            "25%              46366.50            46366.50                 0.00   \n",
            "50%              52692.50            52692.50                 0.00   \n",
            "75%              77653.75            77653.75                 0.00   \n",
            "max              79874.00            79874.00                23.00   \n",
            "\n",
            "       total_aeronaves_envolvidas  \n",
            "count                     5752.00  \n",
            "mean                         1.01  \n",
            "std                          0.11  \n",
            "min                          1.00  \n",
            "25%                          1.00  \n",
            "50%                          1.00  \n",
            "75%                          1.00  \n",
            "max                          3.00  \n",
            "\n",
            "\n",
            "       ocorrencia_classificacao ocorrencia_latitude ocorrencia_longitude  \\\n",
            "count                      5752                4187                 4187   \n",
            "unique                        3                2495                 2490   \n",
            "top                   INCIDENTE                 ***                  ***   \n",
            "freq                       3171                 726                  727   \n",
            "\n",
            "       ocorrencia_cidade ocorrencia_uf ocorrencia_pais ocorrencia_aerodromo  \\\n",
            "count               5752          5752            5752                 5752   \n",
            "unique              1099            28               1                  515   \n",
            "top       RIO DE JANEIRO            SP          BRASIL                 ****   \n",
            "freq                 321          1373            5752                 2181   \n",
            "\n",
            "       ocorrencia_dia ocorrencia_hora investigacao_aeronave_liberada  \\\n",
            "count            5752            5751                           5411   \n",
            "unique           2971             967                              3   \n",
            "top        18/12/2013        20:00:00                            SIM   \n",
            "freq                9             123                           3221   \n",
            "\n",
            "       investigacao_status divulgacao_relatorio_numero  \\\n",
            "count                 5412                        4887   \n",
            "unique                   2                        1677   \n",
            "top             FINALIZADA                         ***   \n",
            "freq                  4911                        2928   \n",
            "\n",
            "       divulgacao_relatorio_publicado divulgacao_dia_publicacao  \\\n",
            "count                            5752                      1494   \n",
            "unique                              2                       215   \n",
            "top                               NÃO                2017-08-01   \n",
            "freq                             4265                        58   \n",
            "\n",
            "       ocorrencia_saida_pista  \n",
            "count                    5752  \n",
            "unique                      2  \n",
            "top                       NÃO  \n",
            "freq                     5245  \n"
          ],
          "name": "stdout"
        }
      ]
    },
    {
      "cell_type": "markdown",
      "metadata": {
        "id": "jMuTVlfmk2kW"
      },
      "source": [
        "##Tratamento inicial da base\n",
        "\n",
        "Como o cliente deseja saber algo específico sobre o relacionamento entre tipo de aeronave e classificação da ocorrência, utlizaremos apenas algumas variáveis categóricas. Portanto, embora seja uma base muito rica em informações, para essa análise específica podem ser desconsiderados muitos atributos\n"
      ]
    },
    {
      "cell_type": "code",
      "metadata": {
        "id": "LKboha3O3uEU"
      },
      "source": [
        "#criando copia da base original utilizando apenas os atributos desejados\n",
        "\n",
        "colunas = ['codigo_ocorrencia', 'ocorrencia_classificacao', 'ocorrencia_saida_pista']\n",
        "df_ocorrencias = df_ocorrencias[colunas].copy() \n",
        "\n",
        "#Garantindo que não tenham ocorrências duplicadas\n",
        "\n",
        "df_ocorrencias.sort_values(by=['codigo_ocorrencia'], ascending=[True],inplace=True)\n",
        "df_ocorrencias.drop_duplicates(['codigo_ocorrencia'], keep='first', inplace=True)"
      ],
      "execution_count": 6,
      "outputs": []
    },
    {
      "cell_type": "markdown",
      "metadata": {
        "id": "8qKB5ZT_vB5A"
      },
      "source": [
        "## Enriquecimento da base trazendo informações sobre tipo e o modelo das aviações"
      ]
    },
    {
      "cell_type": "code",
      "metadata": {
        "id": "e7GUKv6rvBhg",
        "colab": {
          "resources": {
            "http://localhost:8080/nbextensions/google.colab/files.js": {
              "data": "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",
              "ok": true,
              "headers": [
                [
                  "content-type",
                  "application/javascript"
                ]
              ],
              "status": 200,
              "status_text": "OK"
            }
          },
          "base_uri": "https://localhost:8080/",
          "height": 75
        },
        "outputId": "ddd0e423-4e4f-4516-ab00-740eb16eab4e"
      },
      "source": [
        "#carregando a base aeronave já com as colunas escolhidas para analise\n",
        "\n",
        "uploaded = files.upload()\n",
        "df_aeronave = pd.read_csv('aeronave_2010_2020.csv', sep=';')\n",
        "df_aeronave = df_aeronave[['codigo_ocorrencia2','aeronave_tipo_veiculo',\n",
        "                           'aeronave_motor_tipo']]\n",
        "df_aeronave = df_aeronave.rename(columns={'codigo_ocorrencia2': 'codigo_ocorrencia'})\n",
        "df_aeronave.sort_values(by=['codigo_ocorrencia'], ascending=[True],inplace=True)\n",
        "df_aeronave.drop_duplicates(['codigo_ocorrencia'], keep='first', inplace=True)\n",
        "\n",
        "# merge ocorrencias e aeronave\n",
        "df_ocorrencias = pd.merge(\n",
        "    df_ocorrencias,\n",
        "    df_aeronave,\n",
        "    how='left',\n",
        "    on='codigo_ocorrencia'\n",
        ")"
      ],
      "execution_count": 7,
      "outputs": [
        {
          "output_type": "display_data",
          "data": {
            "text/html": [
              "\n",
              "     <input type=\"file\" id=\"files-5b6d8108-4a20-44e1-bca0-d8c30c6dfedb\" name=\"files[]\" multiple disabled\n",
              "        style=\"border:none\" />\n",
              "     <output id=\"result-5b6d8108-4a20-44e1-bca0-d8c30c6dfedb\">\n",
              "      Upload widget is only available when the cell has been executed in the\n",
              "      current browser session. Please rerun this cell to enable.\n",
              "      </output>\n",
              "      <script src=\"/nbextensions/google.colab/files.js\"></script> "
            ],
            "text/plain": [
              "<IPython.core.display.HTML object>"
            ]
          },
          "metadata": {
            "tags": []
          }
        },
        {
          "output_type": "stream",
          "text": [
            "Saving aeronave_2010_2020.csv to aeronave_2010_2020 (11).csv\n"
          ],
          "name": "stdout"
        }
      ]
    },
    {
      "cell_type": "markdown",
      "metadata": {
        "id": "tHMmPkL-KloT"
      },
      "source": [
        "##Preparando os dados para o modelo"
      ]
    },
    {
      "cell_type": "code",
      "metadata": {
        "colab": {
          "base_uri": "https://localhost:8080/",
          "height": 206
        },
        "id": "Sny5JzmFg__c",
        "outputId": "a2848a9c-c8aa-4ecb-8d6a-1643dc444656"
      },
      "source": [
        "df_ocorrencias.head(5)"
      ],
      "execution_count": 8,
      "outputs": [
        {
          "output_type": "execute_result",
          "data": {
            "text/html": [
              "<div>\n",
              "<style scoped>\n",
              "    .dataframe tbody tr th:only-of-type {\n",
              "        vertical-align: middle;\n",
              "    }\n",
              "\n",
              "    .dataframe tbody tr th {\n",
              "        vertical-align: top;\n",
              "    }\n",
              "\n",
              "    .dataframe thead th {\n",
              "        text-align: right;\n",
              "    }\n",
              "</style>\n",
              "<table border=\"1\" class=\"dataframe\">\n",
              "  <thead>\n",
              "    <tr style=\"text-align: right;\">\n",
              "      <th></th>\n",
              "      <th>codigo_ocorrencia</th>\n",
              "      <th>ocorrencia_classificacao</th>\n",
              "      <th>ocorrencia_saida_pista</th>\n",
              "      <th>aeronave_tipo_veiculo</th>\n",
              "      <th>aeronave_motor_tipo</th>\n",
              "    </tr>\n",
              "  </thead>\n",
              "  <tbody>\n",
              "    <tr>\n",
              "      <th>0</th>\n",
              "      <td>39115</td>\n",
              "      <td>ACIDENTE</td>\n",
              "      <td>NÃO</td>\n",
              "      <td>AVIÃO</td>\n",
              "      <td>PISTÃO</td>\n",
              "    </tr>\n",
              "    <tr>\n",
              "      <th>1</th>\n",
              "      <td>39155</td>\n",
              "      <td>INCIDENTE</td>\n",
              "      <td>NÃO</td>\n",
              "      <td>AVIÃO</td>\n",
              "      <td>TURBOÉLICE</td>\n",
              "    </tr>\n",
              "    <tr>\n",
              "      <th>2</th>\n",
              "      <td>39156</td>\n",
              "      <td>INCIDENTE GRAVE</td>\n",
              "      <td>NÃO</td>\n",
              "      <td>AVIÃO</td>\n",
              "      <td>TURBOÉLICE</td>\n",
              "    </tr>\n",
              "    <tr>\n",
              "      <th>3</th>\n",
              "      <td>39158</td>\n",
              "      <td>INCIDENTE</td>\n",
              "      <td>NÃO</td>\n",
              "      <td>AVIÃO</td>\n",
              "      <td>JATO</td>\n",
              "    </tr>\n",
              "    <tr>\n",
              "      <th>4</th>\n",
              "      <td>39176</td>\n",
              "      <td>INCIDENTE</td>\n",
              "      <td>NÃO</td>\n",
              "      <td>AVIÃO</td>\n",
              "      <td>JATO</td>\n",
              "    </tr>\n",
              "  </tbody>\n",
              "</table>\n",
              "</div>"
            ],
            "text/plain": [
              "   codigo_ocorrencia ocorrencia_classificacao ocorrencia_saida_pista  \\\n",
              "0              39115                 ACIDENTE                    NÃO   \n",
              "1              39155                INCIDENTE                    NÃO   \n",
              "2              39156          INCIDENTE GRAVE                    NÃO   \n",
              "3              39158                INCIDENTE                    NÃO   \n",
              "4              39176                INCIDENTE                    NÃO   \n",
              "\n",
              "  aeronave_tipo_veiculo aeronave_motor_tipo  \n",
              "0                 AVIÃO              PISTÃO  \n",
              "1                 AVIÃO          TURBOÉLICE  \n",
              "2                 AVIÃO          TURBOÉLICE  \n",
              "3                 AVIÃO                JATO  \n",
              "4                 AVIÃO                JATO  "
            ]
          },
          "metadata": {
            "tags": []
          },
          "execution_count": 8
        }
      ]
    },
    {
      "cell_type": "code",
      "metadata": {
        "id": "ov1g4Y-vIsri"
      },
      "source": [
        "#tratando os valores que estavam faltando \"***\"\" e passando para \"NÃO INFORMADO\"\n",
        "df_ocorrencias['aeronave_tipo_veiculo'] = df_ocorrencias['aeronave_tipo_veiculo'].replace({'***':'NÃO INFORMADO'})\n",
        "df_ocorrencias['aeronave_motor_tipo'] = df_ocorrencias['aeronave_motor_tipo'].replace({'***':'NÃO INFORMADO'})\n",
        "\n",
        "#Criando coluna acidente a partir da ocorrencia_classificacao com os valores SIM ou NÃO para predição\n",
        "conditions = [\n",
        "        (df_ocorrencias['ocorrencia_classificacao'].str.contains('ACIDENTE')),\n",
        "        (df_ocorrencias['ocorrencia_classificacao'].str.contains('INCIDENTE'))]\n",
        "\n",
        "values = ['SIM','NÃO']\n",
        "\n",
        "df_ocorrencias['acidente'] = np.select(conditions, values).copy()\n",
        "\n",
        "#limpando  o df\n",
        "del df_ocorrencias[\"codigo_ocorrencia\"]\n",
        "del df_ocorrencias[\"ocorrencia_classificacao\"]"
      ],
      "execution_count": 9,
      "outputs": []
    },
    {
      "cell_type": "code",
      "metadata": {
        "colab": {
          "base_uri": "https://localhost:8080/",
          "height": 424
        },
        "id": "H_qy8JMCPWKG",
        "outputId": "2fc87176-173a-4e83-cace-298ff490ae73"
      },
      "source": [
        "df_ocorrencias"
      ],
      "execution_count": 10,
      "outputs": [
        {
          "output_type": "execute_result",
          "data": {
            "text/html": [
              "<div>\n",
              "<style scoped>\n",
              "    .dataframe tbody tr th:only-of-type {\n",
              "        vertical-align: middle;\n",
              "    }\n",
              "\n",
              "    .dataframe tbody tr th {\n",
              "        vertical-align: top;\n",
              "    }\n",
              "\n",
              "    .dataframe thead th {\n",
              "        text-align: right;\n",
              "    }\n",
              "</style>\n",
              "<table border=\"1\" class=\"dataframe\">\n",
              "  <thead>\n",
              "    <tr style=\"text-align: right;\">\n",
              "      <th></th>\n",
              "      <th>ocorrencia_saida_pista</th>\n",
              "      <th>aeronave_tipo_veiculo</th>\n",
              "      <th>aeronave_motor_tipo</th>\n",
              "      <th>acidente</th>\n",
              "    </tr>\n",
              "  </thead>\n",
              "  <tbody>\n",
              "    <tr>\n",
              "      <th>0</th>\n",
              "      <td>NÃO</td>\n",
              "      <td>AVIÃO</td>\n",
              "      <td>PISTÃO</td>\n",
              "      <td>SIM</td>\n",
              "    </tr>\n",
              "    <tr>\n",
              "      <th>1</th>\n",
              "      <td>NÃO</td>\n",
              "      <td>AVIÃO</td>\n",
              "      <td>TURBOÉLICE</td>\n",
              "      <td>NÃO</td>\n",
              "    </tr>\n",
              "    <tr>\n",
              "      <th>2</th>\n",
              "      <td>NÃO</td>\n",
              "      <td>AVIÃO</td>\n",
              "      <td>TURBOÉLICE</td>\n",
              "      <td>NÃO</td>\n",
              "    </tr>\n",
              "    <tr>\n",
              "      <th>3</th>\n",
              "      <td>NÃO</td>\n",
              "      <td>AVIÃO</td>\n",
              "      <td>JATO</td>\n",
              "      <td>NÃO</td>\n",
              "    </tr>\n",
              "    <tr>\n",
              "      <th>4</th>\n",
              "      <td>NÃO</td>\n",
              "      <td>AVIÃO</td>\n",
              "      <td>JATO</td>\n",
              "      <td>NÃO</td>\n",
              "    </tr>\n",
              "    <tr>\n",
              "      <th>...</th>\n",
              "      <td>...</td>\n",
              "      <td>...</td>\n",
              "      <td>...</td>\n",
              "      <td>...</td>\n",
              "    </tr>\n",
              "    <tr>\n",
              "      <th>5747</th>\n",
              "      <td>NÃO</td>\n",
              "      <td>AVIÃO</td>\n",
              "      <td>JATO</td>\n",
              "      <td>NÃO</td>\n",
              "    </tr>\n",
              "    <tr>\n",
              "      <th>5748</th>\n",
              "      <td>NÃO</td>\n",
              "      <td>NÃO INFORMADO</td>\n",
              "      <td>JATO</td>\n",
              "      <td>NÃO</td>\n",
              "    </tr>\n",
              "    <tr>\n",
              "      <th>5749</th>\n",
              "      <td>NÃO</td>\n",
              "      <td>AVIÃO</td>\n",
              "      <td>PISTÃO</td>\n",
              "      <td>SIM</td>\n",
              "    </tr>\n",
              "    <tr>\n",
              "      <th>5750</th>\n",
              "      <td>NÃO</td>\n",
              "      <td>HELICÓPTERO</td>\n",
              "      <td>TURBOEIXO</td>\n",
              "      <td>NÃO</td>\n",
              "    </tr>\n",
              "    <tr>\n",
              "      <th>5751</th>\n",
              "      <td>NÃO</td>\n",
              "      <td>NÃO INFORMADO</td>\n",
              "      <td>NÃO INFORMADO</td>\n",
              "      <td>SIM</td>\n",
              "    </tr>\n",
              "  </tbody>\n",
              "</table>\n",
              "<p>5752 rows × 4 columns</p>\n",
              "</div>"
            ],
            "text/plain": [
              "     ocorrencia_saida_pista aeronave_tipo_veiculo aeronave_motor_tipo acidente\n",
              "0                       NÃO                 AVIÃO              PISTÃO      SIM\n",
              "1                       NÃO                 AVIÃO          TURBOÉLICE      NÃO\n",
              "2                       NÃO                 AVIÃO          TURBOÉLICE      NÃO\n",
              "3                       NÃO                 AVIÃO                JATO      NÃO\n",
              "4                       NÃO                 AVIÃO                JATO      NÃO\n",
              "...                     ...                   ...                 ...      ...\n",
              "5747                    NÃO                 AVIÃO                JATO      NÃO\n",
              "5748                    NÃO         NÃO INFORMADO                JATO      NÃO\n",
              "5749                    NÃO                 AVIÃO              PISTÃO      SIM\n",
              "5750                    NÃO           HELICÓPTERO           TURBOEIXO      NÃO\n",
              "5751                    NÃO         NÃO INFORMADO       NÃO INFORMADO      SIM\n",
              "\n",
              "[5752 rows x 4 columns]"
            ]
          },
          "metadata": {
            "tags": []
          },
          "execution_count": 10
        }
      ]
    },
    {
      "cell_type": "markdown",
      "metadata": {
        "id": "KyBC7q2IIERH"
      },
      "source": [
        "## Preparação"
      ]
    },
    {
      "cell_type": "markdown",
      "metadata": {
        "id": "xtE5oXjE74SA"
      },
      "source": [
        "Criando variáveis independentes e dependentes"
      ]
    },
    {
      "cell_type": "code",
      "metadata": {
        "id": "7g8AeS8BMEdA"
      },
      "source": [
        "y = df_ocorrencias['acidente']\n",
        "X = df_ocorrencias\n",
        "X = df_ocorrencias.drop('acidente',axis = 1)"
      ],
      "execution_count": 11,
      "outputs": []
    },
    {
      "cell_type": "code",
      "metadata": {
        "id": "E_jR2qcjMKKU",
        "colab": {
          "base_uri": "https://localhost:8080/",
          "height": 363
        },
        "outputId": "1bc321d0-712b-4690-9fe8-56b71c9b6037"
      },
      "source": [
        "#Tratando a variavel categorica alterando valor para binário 0 e 1\n",
        "le = LabelEncoder()\n",
        "X['ocorrencia_saida_pista'] = le.fit_transform(X['ocorrencia_saida_pista']) \n",
        "X.head(10)"
      ],
      "execution_count": 12,
      "outputs": [
        {
          "output_type": "execute_result",
          "data": {
            "text/html": [
              "<div>\n",
              "<style scoped>\n",
              "    .dataframe tbody tr th:only-of-type {\n",
              "        vertical-align: middle;\n",
              "    }\n",
              "\n",
              "    .dataframe tbody tr th {\n",
              "        vertical-align: top;\n",
              "    }\n",
              "\n",
              "    .dataframe thead th {\n",
              "        text-align: right;\n",
              "    }\n",
              "</style>\n",
              "<table border=\"1\" class=\"dataframe\">\n",
              "  <thead>\n",
              "    <tr style=\"text-align: right;\">\n",
              "      <th></th>\n",
              "      <th>ocorrencia_saida_pista</th>\n",
              "      <th>aeronave_tipo_veiculo</th>\n",
              "      <th>aeronave_motor_tipo</th>\n",
              "    </tr>\n",
              "  </thead>\n",
              "  <tbody>\n",
              "    <tr>\n",
              "      <th>0</th>\n",
              "      <td>0</td>\n",
              "      <td>AVIÃO</td>\n",
              "      <td>PISTÃO</td>\n",
              "    </tr>\n",
              "    <tr>\n",
              "      <th>1</th>\n",
              "      <td>0</td>\n",
              "      <td>AVIÃO</td>\n",
              "      <td>TURBOÉLICE</td>\n",
              "    </tr>\n",
              "    <tr>\n",
              "      <th>2</th>\n",
              "      <td>0</td>\n",
              "      <td>AVIÃO</td>\n",
              "      <td>TURBOÉLICE</td>\n",
              "    </tr>\n",
              "    <tr>\n",
              "      <th>3</th>\n",
              "      <td>0</td>\n",
              "      <td>AVIÃO</td>\n",
              "      <td>JATO</td>\n",
              "    </tr>\n",
              "    <tr>\n",
              "      <th>4</th>\n",
              "      <td>0</td>\n",
              "      <td>AVIÃO</td>\n",
              "      <td>JATO</td>\n",
              "    </tr>\n",
              "    <tr>\n",
              "      <th>5</th>\n",
              "      <td>0</td>\n",
              "      <td>AVIÃO</td>\n",
              "      <td>JATO</td>\n",
              "    </tr>\n",
              "    <tr>\n",
              "      <th>6</th>\n",
              "      <td>0</td>\n",
              "      <td>AVIÃO</td>\n",
              "      <td>PISTÃO</td>\n",
              "    </tr>\n",
              "    <tr>\n",
              "      <th>7</th>\n",
              "      <td>0</td>\n",
              "      <td>HELICÓPTERO</td>\n",
              "      <td>TURBOEIXO</td>\n",
              "    </tr>\n",
              "    <tr>\n",
              "      <th>8</th>\n",
              "      <td>0</td>\n",
              "      <td>ULTRALEVE</td>\n",
              "      <td>PISTÃO</td>\n",
              "    </tr>\n",
              "    <tr>\n",
              "      <th>9</th>\n",
              "      <td>0</td>\n",
              "      <td>HELICÓPTERO</td>\n",
              "      <td>TURBOEIXO</td>\n",
              "    </tr>\n",
              "  </tbody>\n",
              "</table>\n",
              "</div>"
            ],
            "text/plain": [
              "   ocorrencia_saida_pista aeronave_tipo_veiculo aeronave_motor_tipo\n",
              "0                       0                 AVIÃO              PISTÃO\n",
              "1                       0                 AVIÃO          TURBOÉLICE\n",
              "2                       0                 AVIÃO          TURBOÉLICE\n",
              "3                       0                 AVIÃO                JATO\n",
              "4                       0                 AVIÃO                JATO\n",
              "5                       0                 AVIÃO                JATO\n",
              "6                       0                 AVIÃO              PISTÃO\n",
              "7                       0           HELICÓPTERO           TURBOEIXO\n",
              "8                       0             ULTRALEVE              PISTÃO\n",
              "9                       0           HELICÓPTERO           TURBOEIXO"
            ]
          },
          "metadata": {
            "tags": []
          },
          "execution_count": 12
        }
      ]
    },
    {
      "cell_type": "code",
      "metadata": {
        "colab": {
          "base_uri": "https://localhost:8080/",
          "height": 461
        },
        "id": "_DNjzmA94LH1",
        "outputId": "3804d7c3-5a41-468e-d9b8-2d459aca548a"
      },
      "source": [
        "#Tratando as variáveis que possuem mais de dois tipos:\n",
        "x_final = pd.get_dummies (data = X, columns = ['aeronave_tipo_veiculo','aeronave_motor_tipo'] )\n",
        "x_final"
      ],
      "execution_count": 13,
      "outputs": [
        {
          "output_type": "execute_result",
          "data": {
            "text/html": [
              "<div>\n",
              "<style scoped>\n",
              "    .dataframe tbody tr th:only-of-type {\n",
              "        vertical-align: middle;\n",
              "    }\n",
              "\n",
              "    .dataframe tbody tr th {\n",
              "        vertical-align: top;\n",
              "    }\n",
              "\n",
              "    .dataframe thead th {\n",
              "        text-align: right;\n",
              "    }\n",
              "</style>\n",
              "<table border=\"1\" class=\"dataframe\">\n",
              "  <thead>\n",
              "    <tr style=\"text-align: right;\">\n",
              "      <th></th>\n",
              "      <th>ocorrencia_saida_pista</th>\n",
              "      <th>aeronave_tipo_veiculo_ANFÍBIO</th>\n",
              "      <th>aeronave_tipo_veiculo_AVIÃO</th>\n",
              "      <th>aeronave_tipo_veiculo_BALÃO</th>\n",
              "      <th>aeronave_tipo_veiculo_DIRIGÍVEL</th>\n",
              "      <th>aeronave_tipo_veiculo_HELICÓPTERO</th>\n",
              "      <th>aeronave_tipo_veiculo_HIDROAVIÃO</th>\n",
              "      <th>aeronave_tipo_veiculo_NÃO INFORMADO</th>\n",
              "      <th>aeronave_tipo_veiculo_PLANADOR</th>\n",
              "      <th>aeronave_tipo_veiculo_TRIKE</th>\n",
              "      <th>aeronave_tipo_veiculo_ULTRALEVE</th>\n",
              "      <th>aeronave_motor_tipo_JATO</th>\n",
              "      <th>aeronave_motor_tipo_NÃO INFORMADO</th>\n",
              "      <th>aeronave_motor_tipo_PISTÃO</th>\n",
              "      <th>aeronave_motor_tipo_SEM TRAÇÃO</th>\n",
              "      <th>aeronave_motor_tipo_TURBOEIXO</th>\n",
              "      <th>aeronave_motor_tipo_TURBOÉLICE</th>\n",
              "    </tr>\n",
              "  </thead>\n",
              "  <tbody>\n",
              "    <tr>\n",
              "      <th>0</th>\n",
              "      <td>0</td>\n",
              "      <td>0</td>\n",
              "      <td>1</td>\n",
              "      <td>0</td>\n",
              "      <td>0</td>\n",
              "      <td>0</td>\n",
              "      <td>0</td>\n",
              "      <td>0</td>\n",
              "      <td>0</td>\n",
              "      <td>0</td>\n",
              "      <td>0</td>\n",
              "      <td>0</td>\n",
              "      <td>0</td>\n",
              "      <td>1</td>\n",
              "      <td>0</td>\n",
              "      <td>0</td>\n",
              "      <td>0</td>\n",
              "    </tr>\n",
              "    <tr>\n",
              "      <th>1</th>\n",
              "      <td>0</td>\n",
              "      <td>0</td>\n",
              "      <td>1</td>\n",
              "      <td>0</td>\n",
              "      <td>0</td>\n",
              "      <td>0</td>\n",
              "      <td>0</td>\n",
              "      <td>0</td>\n",
              "      <td>0</td>\n",
              "      <td>0</td>\n",
              "      <td>0</td>\n",
              "      <td>0</td>\n",
              "      <td>0</td>\n",
              "      <td>0</td>\n",
              "      <td>0</td>\n",
              "      <td>0</td>\n",
              "      <td>1</td>\n",
              "    </tr>\n",
              "    <tr>\n",
              "      <th>2</th>\n",
              "      <td>0</td>\n",
              "      <td>0</td>\n",
              "      <td>1</td>\n",
              "      <td>0</td>\n",
              "      <td>0</td>\n",
              "      <td>0</td>\n",
              "      <td>0</td>\n",
              "      <td>0</td>\n",
              "      <td>0</td>\n",
              "      <td>0</td>\n",
              "      <td>0</td>\n",
              "      <td>0</td>\n",
              "      <td>0</td>\n",
              "      <td>0</td>\n",
              "      <td>0</td>\n",
              "      <td>0</td>\n",
              "      <td>1</td>\n",
              "    </tr>\n",
              "    <tr>\n",
              "      <th>3</th>\n",
              "      <td>0</td>\n",
              "      <td>0</td>\n",
              "      <td>1</td>\n",
              "      <td>0</td>\n",
              "      <td>0</td>\n",
              "      <td>0</td>\n",
              "      <td>0</td>\n",
              "      <td>0</td>\n",
              "      <td>0</td>\n",
              "      <td>0</td>\n",
              "      <td>0</td>\n",
              "      <td>1</td>\n",
              "      <td>0</td>\n",
              "      <td>0</td>\n",
              "      <td>0</td>\n",
              "      <td>0</td>\n",
              "      <td>0</td>\n",
              "    </tr>\n",
              "    <tr>\n",
              "      <th>4</th>\n",
              "      <td>0</td>\n",
              "      <td>0</td>\n",
              "      <td>1</td>\n",
              "      <td>0</td>\n",
              "      <td>0</td>\n",
              "      <td>0</td>\n",
              "      <td>0</td>\n",
              "      <td>0</td>\n",
              "      <td>0</td>\n",
              "      <td>0</td>\n",
              "      <td>0</td>\n",
              "      <td>1</td>\n",
              "      <td>0</td>\n",
              "      <td>0</td>\n",
              "      <td>0</td>\n",
              "      <td>0</td>\n",
              "      <td>0</td>\n",
              "    </tr>\n",
              "    <tr>\n",
              "      <th>...</th>\n",
              "      <td>...</td>\n",
              "      <td>...</td>\n",
              "      <td>...</td>\n",
              "      <td>...</td>\n",
              "      <td>...</td>\n",
              "      <td>...</td>\n",
              "      <td>...</td>\n",
              "      <td>...</td>\n",
              "      <td>...</td>\n",
              "      <td>...</td>\n",
              "      <td>...</td>\n",
              "      <td>...</td>\n",
              "      <td>...</td>\n",
              "      <td>...</td>\n",
              "      <td>...</td>\n",
              "      <td>...</td>\n",
              "      <td>...</td>\n",
              "    </tr>\n",
              "    <tr>\n",
              "      <th>5747</th>\n",
              "      <td>0</td>\n",
              "      <td>0</td>\n",
              "      <td>1</td>\n",
              "      <td>0</td>\n",
              "      <td>0</td>\n",
              "      <td>0</td>\n",
              "      <td>0</td>\n",
              "      <td>0</td>\n",
              "      <td>0</td>\n",
              "      <td>0</td>\n",
              "      <td>0</td>\n",
              "      <td>1</td>\n",
              "      <td>0</td>\n",
              "      <td>0</td>\n",
              "      <td>0</td>\n",
              "      <td>0</td>\n",
              "      <td>0</td>\n",
              "    </tr>\n",
              "    <tr>\n",
              "      <th>5748</th>\n",
              "      <td>0</td>\n",
              "      <td>0</td>\n",
              "      <td>0</td>\n",
              "      <td>0</td>\n",
              "      <td>0</td>\n",
              "      <td>0</td>\n",
              "      <td>0</td>\n",
              "      <td>1</td>\n",
              "      <td>0</td>\n",
              "      <td>0</td>\n",
              "      <td>0</td>\n",
              "      <td>1</td>\n",
              "      <td>0</td>\n",
              "      <td>0</td>\n",
              "      <td>0</td>\n",
              "      <td>0</td>\n",
              "      <td>0</td>\n",
              "    </tr>\n",
              "    <tr>\n",
              "      <th>5749</th>\n",
              "      <td>0</td>\n",
              "      <td>0</td>\n",
              "      <td>1</td>\n",
              "      <td>0</td>\n",
              "      <td>0</td>\n",
              "      <td>0</td>\n",
              "      <td>0</td>\n",
              "      <td>0</td>\n",
              "      <td>0</td>\n",
              "      <td>0</td>\n",
              "      <td>0</td>\n",
              "      <td>0</td>\n",
              "      <td>0</td>\n",
              "      <td>1</td>\n",
              "      <td>0</td>\n",
              "      <td>0</td>\n",
              "      <td>0</td>\n",
              "    </tr>\n",
              "    <tr>\n",
              "      <th>5750</th>\n",
              "      <td>0</td>\n",
              "      <td>0</td>\n",
              "      <td>0</td>\n",
              "      <td>0</td>\n",
              "      <td>0</td>\n",
              "      <td>1</td>\n",
              "      <td>0</td>\n",
              "      <td>0</td>\n",
              "      <td>0</td>\n",
              "      <td>0</td>\n",
              "      <td>0</td>\n",
              "      <td>0</td>\n",
              "      <td>0</td>\n",
              "      <td>0</td>\n",
              "      <td>0</td>\n",
              "      <td>1</td>\n",
              "      <td>0</td>\n",
              "    </tr>\n",
              "    <tr>\n",
              "      <th>5751</th>\n",
              "      <td>0</td>\n",
              "      <td>0</td>\n",
              "      <td>0</td>\n",
              "      <td>0</td>\n",
              "      <td>0</td>\n",
              "      <td>0</td>\n",
              "      <td>0</td>\n",
              "      <td>1</td>\n",
              "      <td>0</td>\n",
              "      <td>0</td>\n",
              "      <td>0</td>\n",
              "      <td>0</td>\n",
              "      <td>1</td>\n",
              "      <td>0</td>\n",
              "      <td>0</td>\n",
              "      <td>0</td>\n",
              "      <td>0</td>\n",
              "    </tr>\n",
              "  </tbody>\n",
              "</table>\n",
              "<p>5752 rows × 17 columns</p>\n",
              "</div>"
            ],
            "text/plain": [
              "      ocorrencia_saida_pista  aeronave_tipo_veiculo_ANFÍBIO  \\\n",
              "0                          0                              0   \n",
              "1                          0                              0   \n",
              "2                          0                              0   \n",
              "3                          0                              0   \n",
              "4                          0                              0   \n",
              "...                      ...                            ...   \n",
              "5747                       0                              0   \n",
              "5748                       0                              0   \n",
              "5749                       0                              0   \n",
              "5750                       0                              0   \n",
              "5751                       0                              0   \n",
              "\n",
              "      aeronave_tipo_veiculo_AVIÃO  aeronave_tipo_veiculo_BALÃO  \\\n",
              "0                               1                            0   \n",
              "1                               1                            0   \n",
              "2                               1                            0   \n",
              "3                               1                            0   \n",
              "4                               1                            0   \n",
              "...                           ...                          ...   \n",
              "5747                            1                            0   \n",
              "5748                            0                            0   \n",
              "5749                            1                            0   \n",
              "5750                            0                            0   \n",
              "5751                            0                            0   \n",
              "\n",
              "      aeronave_tipo_veiculo_DIRIGÍVEL  aeronave_tipo_veiculo_HELICÓPTERO  \\\n",
              "0                                   0                                  0   \n",
              "1                                   0                                  0   \n",
              "2                                   0                                  0   \n",
              "3                                   0                                  0   \n",
              "4                                   0                                  0   \n",
              "...                               ...                                ...   \n",
              "5747                                0                                  0   \n",
              "5748                                0                                  0   \n",
              "5749                                0                                  0   \n",
              "5750                                0                                  1   \n",
              "5751                                0                                  0   \n",
              "\n",
              "      aeronave_tipo_veiculo_HIDROAVIÃO  aeronave_tipo_veiculo_NÃO INFORMADO  \\\n",
              "0                                    0                                    0   \n",
              "1                                    0                                    0   \n",
              "2                                    0                                    0   \n",
              "3                                    0                                    0   \n",
              "4                                    0                                    0   \n",
              "...                                ...                                  ...   \n",
              "5747                                 0                                    0   \n",
              "5748                                 0                                    1   \n",
              "5749                                 0                                    0   \n",
              "5750                                 0                                    0   \n",
              "5751                                 0                                    1   \n",
              "\n",
              "      aeronave_tipo_veiculo_PLANADOR  aeronave_tipo_veiculo_TRIKE  \\\n",
              "0                                  0                            0   \n",
              "1                                  0                            0   \n",
              "2                                  0                            0   \n",
              "3                                  0                            0   \n",
              "4                                  0                            0   \n",
              "...                              ...                          ...   \n",
              "5747                               0                            0   \n",
              "5748                               0                            0   \n",
              "5749                               0                            0   \n",
              "5750                               0                            0   \n",
              "5751                               0                            0   \n",
              "\n",
              "      aeronave_tipo_veiculo_ULTRALEVE  aeronave_motor_tipo_JATO  \\\n",
              "0                                   0                         0   \n",
              "1                                   0                         0   \n",
              "2                                   0                         0   \n",
              "3                                   0                         1   \n",
              "4                                   0                         1   \n",
              "...                               ...                       ...   \n",
              "5747                                0                         1   \n",
              "5748                                0                         1   \n",
              "5749                                0                         0   \n",
              "5750                                0                         0   \n",
              "5751                                0                         0   \n",
              "\n",
              "      aeronave_motor_tipo_NÃO INFORMADO  aeronave_motor_tipo_PISTÃO  \\\n",
              "0                                     0                           1   \n",
              "1                                     0                           0   \n",
              "2                                     0                           0   \n",
              "3                                     0                           0   \n",
              "4                                     0                           0   \n",
              "...                                 ...                         ...   \n",
              "5747                                  0                           0   \n",
              "5748                                  0                           0   \n",
              "5749                                  0                           1   \n",
              "5750                                  0                           0   \n",
              "5751                                  1                           0   \n",
              "\n",
              "      aeronave_motor_tipo_SEM TRAÇÃO  aeronave_motor_tipo_TURBOEIXO  \\\n",
              "0                                  0                              0   \n",
              "1                                  0                              0   \n",
              "2                                  0                              0   \n",
              "3                                  0                              0   \n",
              "4                                  0                              0   \n",
              "...                              ...                            ...   \n",
              "5747                               0                              0   \n",
              "5748                               0                              0   \n",
              "5749                               0                              0   \n",
              "5750                               0                              1   \n",
              "5751                               0                              0   \n",
              "\n",
              "      aeronave_motor_tipo_TURBOÉLICE  \n",
              "0                                  0  \n",
              "1                                  1  \n",
              "2                                  1  \n",
              "3                                  0  \n",
              "4                                  0  \n",
              "...                              ...  \n",
              "5747                               0  \n",
              "5748                               0  \n",
              "5749                               0  \n",
              "5750                               0  \n",
              "5751                               0  \n",
              "\n",
              "[5752 rows x 17 columns]"
            ]
          },
          "metadata": {
            "tags": []
          },
          "execution_count": 13
        }
      ]
    },
    {
      "cell_type": "code",
      "metadata": {
        "id": "pzAWlFXE-wEy"
      },
      "source": [
        "# Separando em dados teste e treinamento \n",
        "x_treino, x_teste, y_treino, y_teste  = train_test_split(x_final, y, test_size = 0.25, random_state = 1)"
      ],
      "execution_count": 14,
      "outputs": []
    },
    {
      "cell_type": "markdown",
      "metadata": {
        "id": "g1Aw7JyM-_d5"
      },
      "source": [
        "## Modelo KNN"
      ]
    },
    {
      "cell_type": "code",
      "metadata": {
        "colab": {
          "base_uri": "https://localhost:8080/"
        },
        "id": "IOFy6quN-w0I",
        "outputId": "91cca92e-4e61-4120-8212-22c48965abb0"
      },
      "source": [
        "#configurando o modelo\n",
        "knn = KNeighborsClassifier()\n",
        "knn.fit(x_treino, y_treino)"
      ],
      "execution_count": 15,
      "outputs": [
        {
          "output_type": "execute_result",
          "data": {
            "text/plain": [
              "KNeighborsClassifier(algorithm='auto', leaf_size=30, metric='minkowski',\n",
              "                     metric_params=None, n_jobs=None, n_neighbors=5, p=2,\n",
              "                     weights='uniform')"
            ]
          },
          "metadata": {
            "tags": []
          },
          "execution_count": 15
        }
      ]
    },
    {
      "cell_type": "code",
      "metadata": {
        "colab": {
          "base_uri": "https://localhost:8080/"
        },
        "id": "fOIMhcYD-w2s",
        "outputId": "cf12e66b-feba-4762-e9d6-a589ad366dff"
      },
      "source": [
        "#matriz de confusão\n",
        "resultado_knn = knn.predict(x_teste)\n",
        "print (pd.crosstab(y_teste, resultado_knn, rownames = ['Real'], colnames = ['Predito'], margins = True))"
      ],
      "execution_count": 16,
      "outputs": [
        {
          "output_type": "stream",
          "text": [
            "Predito  NÃO  SIM   All\n",
            "Real                   \n",
            "NÃO      560  428   988\n",
            "SIM      113  337   450\n",
            "All      673  765  1438\n"
          ],
          "name": "stdout"
        }
      ]
    },
    {
      "cell_type": "code",
      "metadata": {
        "colab": {
          "base_uri": "https://localhost:8080/",
          "height": 422
        },
        "id": "Jr0FuNKG-w7M",
        "outputId": "b8ca00bf-2717-4a0e-dbe0-832afef0ecbd"
      },
      "source": [
        "#encontrando o melhor K para valores entre 1 e 40\n",
        "error = []\n",
        "\n",
        "for i in range(1, 40):\n",
        "    knn = KNeighborsClassifier(n_neighbors=i)\n",
        "    knn.fit(x_treino, y_treino)\n",
        "    pred_i = knn.predict(x_teste)\n",
        "    error.append(np.mean(pred_i != y_teste))\n",
        "\n",
        "plt.figure(figsize=(12, 6))\n",
        "plt.plot(range(1, 40), error, color='red', linestyle='dashed', marker='o',\n",
        "         markerfacecolor='blue', markersize=10)\n",
        "plt.title('Taxa de erro do valor K')\n",
        "plt.xlabel('Valor de K')\n",
        "plt.ylabel('Erro Médio')"
      ],
      "execution_count": 17,
      "outputs": [
        {
          "output_type": "execute_result",
          "data": {
            "text/plain": [
              "Text(0, 0.5, 'Erro Médio')"
            ]
          },
          "metadata": {
            "tags": []
          },
          "execution_count": 17
        },
        {
          "output_type": "display_data",
          "data": {
            "image/png": "[encoded data removed]",
            "text/plain": [
              "<Figure size 864x432 with 1 Axes>"
            ]
          },
          "metadata": {
            "tags": [],
            "needs_background": "light"
          }
        }
      ]
    },
    {
      "cell_type": "markdown",
      "metadata": {
        "id": "-vAtXAe7Cwn-"
      },
      "source": [
        "\n",
        "\n",
        "Observando o gráfico é possivel ver que o K=29 apresentou o menor erro médio"
      ]
    },
    {
      "cell_type": "code",
      "metadata": {
        "colab": {
          "base_uri": "https://localhost:8080/"
        },
        "id": "EITl9cAyCwE3",
        "outputId": "7ef4c9ce-c72c-490b-a585-74347393fdc9"
      },
      "source": [
        "#Utiliznado o K encontrado:\n",
        "knn = KNeighborsClassifier(n_neighbors=29)\n",
        "knn.fit(x_treino, y_treino)"
      ],
      "execution_count": 18,
      "outputs": [
        {
          "output_type": "execute_result",
          "data": {
            "text/plain": [
              "KNeighborsClassifier(algorithm='auto', leaf_size=30, metric='minkowski',\n",
              "                     metric_params=None, n_jobs=None, n_neighbors=29, p=2,\n",
              "                     weights='uniform')"
            ]
          },
          "metadata": {
            "tags": []
          },
          "execution_count": 18
        }
      ]
    },
    {
      "cell_type": "code",
      "metadata": {
        "colab": {
          "base_uri": "https://localhost:8080/"
        },
        "id": "1pHKmpYgSVMD",
        "outputId": "b2852da2-752d-4e52-a39f-fe0952f5b11c"
      },
      "source": [
        "resultado_knn = knn.predict(x_teste)\n",
        "print (pd.crosstab(y_teste,resultado_knn, rownames=['Real'], colnames=['Predito'], margins=True))"
      ],
      "execution_count": 19,
      "outputs": [
        {
          "output_type": "stream",
          "text": [
            "Predito   NÃO  SIM   All\n",
            "Real                    \n",
            "NÃO       911   77   988\n",
            "SIM       303  147   450\n",
            "All      1214  224  1438\n"
          ],
          "name": "stdout"
        }
      ]
    },
    {
      "cell_type": "markdown",
      "metadata": {
        "id": "afAX1YP7ADR8"
      },
      "source": [
        "## Modelo Random Forest"
      ]
    },
    {
      "cell_type": "code",
      "metadata": {
        "id": "fBjyCHkz-w9D"
      },
      "source": [
        "# Treinando o modelo\n",
        "rf = RandomForestClassifier (n_estimators = 1000, random_state = 42)  \n",
        "rf.fit (x_treino, y_treino); "
      ],
      "execution_count": 20,
      "outputs": []
    },
    {
      "cell_type": "code",
      "metadata": {
        "colab": {
          "base_uri": "https://localhost:8080/"
        },
        "id": "HUon6qgJDIIn",
        "outputId": "f842c8f7-b274-424c-d7b3-ef15e4a91a62"
      },
      "source": [
        "y_rf = rf.predict(x_teste)\n",
        "print(pd.crosstab(y_teste,y_rf, rownames=['Real'], colnames=['Predito'], margins=True))\n",
        "print('\\n')\n",
        "print(classification_report(y_teste, y_rf))"
      ],
      "execution_count": 21,
      "outputs": [
        {
          "output_type": "stream",
          "text": [
            "Predito   NÃO  SIM   All\n",
            "Real                    \n",
            "NÃO       916   72   988\n",
            "SIM       306  144   450\n",
            "All      1222  216  1438\n",
            "\n",
            "\n",
            "              precision    recall  f1-score   support\n",
            "\n",
            "         NÃO       0.75      0.93      0.83       988\n",
            "         SIM       0.67      0.32      0.43       450\n",
            "\n",
            "    accuracy                           0.74      1438\n",
            "   macro avg       0.71      0.62      0.63      1438\n",
            "weighted avg       0.72      0.74      0.70      1438\n",
            "\n"
          ],
          "name": "stdout"
        }
      ]
    },
    {
      "cell_type": "markdown",
      "metadata": {
        "id": "2HVIzWSQDU6R"
      },
      "source": [
        "O modelo de Random Forest conseguiu melhores resultados, porém ainda com  bastante falsos negativos.Tentar um modelo mais robusto e que não sofre tanta influência em amostras desbalanceadas"
      ]
    },
    {
      "cell_type": "code",
      "metadata": {
        "colab": {
          "base_uri": "https://localhost:8080/",
          "height": 583
        },
        "id": "vvYgy6WzAFkq",
        "outputId": "524844c0-b1dd-43aa-a625-7a4985b5868f"
      },
      "source": [
        "#Analisando a importância de cada variável\n",
        "pd.set_option('display.float_format', lambda x: '%.3f' % x) #configurando pandas para mostrar valor inteiro ao inves notação cientifica\n",
        "rf.feature_importances_\n",
        "\n",
        "feature_importances = pd.DataFrame(rf.feature_importances_, index = x_treino.columns, columns=['importância']).sort_values('importância',ascending=False)\n",
        "feature_importances"
      ],
      "execution_count": 22,
      "outputs": [
        {
          "output_type": "execute_result",
          "data": {
            "text/html": [
              "<div>\n",
              "<style scoped>\n",
              "    .dataframe tbody tr th:only-of-type {\n",
              "        vertical-align: middle;\n",
              "    }\n",
              "\n",
              "    .dataframe tbody tr th {\n",
              "        vertical-align: top;\n",
              "    }\n",
              "\n",
              "    .dataframe thead th {\n",
              "        text-align: right;\n",
              "    }\n",
              "</style>\n",
              "<table border=\"1\" class=\"dataframe\">\n",
              "  <thead>\n",
              "    <tr style=\"text-align: right;\">\n",
              "      <th></th>\n",
              "      <th>importância</th>\n",
              "    </tr>\n",
              "  </thead>\n",
              "  <tbody>\n",
              "    <tr>\n",
              "      <th>aeronave_motor_tipo_PISTÃO</th>\n",
              "      <td>0.378</td>\n",
              "    </tr>\n",
              "    <tr>\n",
              "      <th>aeronave_motor_tipo_JATO</th>\n",
              "      <td>0.216</td>\n",
              "    </tr>\n",
              "    <tr>\n",
              "      <th>aeronave_tipo_veiculo_ULTRALEVE</th>\n",
              "      <td>0.082</td>\n",
              "    </tr>\n",
              "    <tr>\n",
              "      <th>aeronave_tipo_veiculo_AVIÃO</th>\n",
              "      <td>0.081</td>\n",
              "    </tr>\n",
              "    <tr>\n",
              "      <th>ocorrencia_saida_pista</th>\n",
              "      <td>0.071</td>\n",
              "    </tr>\n",
              "    <tr>\n",
              "      <th>aeronave_motor_tipo_TURBOÉLICE</th>\n",
              "      <td>0.052</td>\n",
              "    </tr>\n",
              "    <tr>\n",
              "      <th>aeronave_motor_tipo_TURBOEIXO</th>\n",
              "      <td>0.039</td>\n",
              "    </tr>\n",
              "    <tr>\n",
              "      <th>aeronave_tipo_veiculo_HELICÓPTERO</th>\n",
              "      <td>0.030</td>\n",
              "    </tr>\n",
              "    <tr>\n",
              "      <th>aeronave_motor_tipo_NÃO INFORMADO</th>\n",
              "      <td>0.019</td>\n",
              "    </tr>\n",
              "    <tr>\n",
              "      <th>aeronave_tipo_veiculo_NÃO INFORMADO</th>\n",
              "      <td>0.009</td>\n",
              "    </tr>\n",
              "    <tr>\n",
              "      <th>aeronave_tipo_veiculo_ANFÍBIO</th>\n",
              "      <td>0.006</td>\n",
              "    </tr>\n",
              "    <tr>\n",
              "      <th>aeronave_tipo_veiculo_PLANADOR</th>\n",
              "      <td>0.005</td>\n",
              "    </tr>\n",
              "    <tr>\n",
              "      <th>aeronave_motor_tipo_SEM TRAÇÃO</th>\n",
              "      <td>0.005</td>\n",
              "    </tr>\n",
              "    <tr>\n",
              "      <th>aeronave_tipo_veiculo_TRIKE</th>\n",
              "      <td>0.004</td>\n",
              "    </tr>\n",
              "    <tr>\n",
              "      <th>aeronave_tipo_veiculo_BALÃO</th>\n",
              "      <td>0.001</td>\n",
              "    </tr>\n",
              "    <tr>\n",
              "      <th>aeronave_tipo_veiculo_HIDROAVIÃO</th>\n",
              "      <td>0.000</td>\n",
              "    </tr>\n",
              "    <tr>\n",
              "      <th>aeronave_tipo_veiculo_DIRIGÍVEL</th>\n",
              "      <td>0.000</td>\n",
              "    </tr>\n",
              "  </tbody>\n",
              "</table>\n",
              "</div>"
            ],
            "text/plain": [
              "                                     importância\n",
              "aeronave_motor_tipo_PISTÃO                 0.378\n",
              "aeronave_motor_tipo_JATO                   0.216\n",
              "aeronave_tipo_veiculo_ULTRALEVE            0.082\n",
              "aeronave_tipo_veiculo_AVIÃO                0.081\n",
              "ocorrencia_saida_pista                     0.071\n",
              "aeronave_motor_tipo_TURBOÉLICE             0.052\n",
              "aeronave_motor_tipo_TURBOEIXO              0.039\n",
              "aeronave_tipo_veiculo_HELICÓPTERO          0.030\n",
              "aeronave_motor_tipo_NÃO INFORMADO          0.019\n",
              "aeronave_tipo_veiculo_NÃO INFORMADO        0.009\n",
              "aeronave_tipo_veiculo_ANFÍBIO              0.006\n",
              "aeronave_tipo_veiculo_PLANADOR             0.005\n",
              "aeronave_motor_tipo_SEM TRAÇÃO             0.005\n",
              "aeronave_tipo_veiculo_TRIKE                0.004\n",
              "aeronave_tipo_veiculo_BALÃO                0.001\n",
              "aeronave_tipo_veiculo_HIDROAVIÃO           0.000\n",
              "aeronave_tipo_veiculo_DIRIGÍVEL            0.000"
            ]
          },
          "metadata": {
            "tags": []
          },
          "execution_count": 22
        }
      ]
    },
    {
      "cell_type": "markdown",
      "metadata": {
        "id": "Ig0GQth2E8v3"
      },
      "source": [
        "## Modelo XGBoost"
      ]
    },
    {
      "cell_type": "code",
      "metadata": {
        "colab": {
          "base_uri": "https://localhost:8080/"
        },
        "id": "rhg37VENEBaw",
        "outputId": "e6cd7be3-8ace-422e-81e2-bd022b58d426"
      },
      "source": [
        "# ajuste do modelo\n",
        "xgb = XGBClassifier(learning_rate =0.1,\n",
        " n_estimators=1000,\n",
        " max_depth=6,\n",
        " min_child_weight=1,\n",
        " gamma=0,\n",
        " subsample=0.8,\n",
        " colsample_bytree=0.8,\n",
        " objective= 'binary:logistic',\n",
        " nthread=4,\n",
        " scale_pos_weight=1.0,\n",
        " seed=27)\n",
        "xgb.fit(x_treino, y_treino)"
      ],
      "execution_count": 23,
      "outputs": [
        {
          "output_type": "execute_result",
          "data": {
            "text/plain": [
              "XGBClassifier(base_score=0.5, booster='gbtree', colsample_bylevel=1,\n",
              "              colsample_bynode=1, colsample_bytree=0.8, gamma=0,\n",
              "              learning_rate=0.1, max_delta_step=0, max_depth=6,\n",
              "              min_child_weight=1, missing=None, n_estimators=1000, n_jobs=1,\n",
              "              nthread=4, objective='binary:logistic', random_state=0,\n",
              "              reg_alpha=0, reg_lambda=1, scale_pos_weight=1.0, seed=27,\n",
              "              silent=None, subsample=0.8, verbosity=1)"
            ]
          },
          "metadata": {
            "tags": []
          },
          "execution_count": 23
        }
      ]
    },
    {
      "cell_type": "code",
      "metadata": {
        "colab": {
          "base_uri": "https://localhost:8080/"
        },
        "id": "9uaFHnJJEBdd",
        "outputId": "6387073e-43bb-4091-a47d-8496b5073c56"
      },
      "source": [
        "#fazendo as predições no dados de teste\n",
        "preditos_xgb = xgb.predict(x_teste)\n",
        "print (pd.crosstab(y_teste,preditos_xgb, rownames=['Real'], colnames=['Predito'], margins=True))"
      ],
      "execution_count": 24,
      "outputs": [
        {
          "output_type": "stream",
          "text": [
            "Predito   NÃO  SIM   All\n",
            "Real                    \n",
            "NÃO       912   76   988\n",
            "SIM       303  147   450\n",
            "All      1215  223  1438\n"
          ],
          "name": "stdout"
        }
      ]
    },
    {
      "cell_type": "code",
      "metadata": {
        "colab": {
          "base_uri": "https://localhost:8080/",
          "height": 531
        },
        "id": "lzgtWEx-EBf3",
        "outputId": "afec5596-d3c8-493e-ca21-4230d6de02ea"
      },
      "source": [
        "#Analisando a importância de cada variável\n",
        "#from xgboost import plot_importance\n",
        "fig, ax = plt.subplots(figsize=(10,8))\n",
        "plot_importance(xgb, ax=ax)"
      ],
      "execution_count": 25,
      "outputs": [
        {
          "output_type": "execute_result",
          "data": {
            "text/plain": [
              "<matplotlib.axes._subplots.AxesSubplot at 0x7f2177e1a290>"
            ]
          },
          "metadata": {
            "tags": []
          },
          "execution_count": 25
        },
        {
          "output_type": "display_data",
          "data": {
            "image/png": "[encoded data removed]",
            "text/plain": [
              "<Figure size 720x576 with 1 Axes>"
            ]
          },
          "metadata": {
            "tags": [],
            "needs_background": "light"
          }
        }
      ]
    },
    {
      "cell_type": "markdown",
      "metadata": {
        "id": "ZeIVCMoWFB53"
      },
      "source": [
        "## Métodos Ensemble: combinando os dois melhores modelos, Random Forest e XGBoost."
      ]
    },
    {
      "cell_type": "code",
      "metadata": {
        "colab": {
          "base_uri": "https://localhost:8080/"
        },
        "id": "SzoS384DEBnO",
        "outputId": "4bb6a2f9-d1f6-464f-ce18-401889ec10a2"
      },
      "source": [
        "# Voting Classifier with soft voting \n",
        "voto = VotingClassifier(estimators=[('rf', rf),('xgb',xgb)], voting='soft')\n",
        "voto = voto.fit(x_treino,y_treino)\n",
        "\n",
        "y_predito = voto.predict(x_teste)\n",
        "print(pd.crosstab(y_teste,y_predito, rownames=['Real'], colnames=['Predito'], margins=True))\n",
        "print('\\n')\n",
        "print(classification_report(y_teste, y_predito))"
      ],
      "execution_count": 26,
      "outputs": [
        {
          "output_type": "stream",
          "text": [
            "Predito   NÃO  SIM   All\n",
            "Real                    \n",
            "NÃO       912   76   988\n",
            "SIM       302  148   450\n",
            "All      1214  224  1438\n",
            "\n",
            "\n",
            "              precision    recall  f1-score   support\n",
            "\n",
            "         NÃO       0.75      0.92      0.83       988\n",
            "         SIM       0.66      0.33      0.44       450\n",
            "\n",
            "    accuracy                           0.74      1438\n",
            "   macro avg       0.71      0.63      0.63      1438\n",
            "weighted avg       0.72      0.74      0.71      1438\n",
            "\n"
          ],
          "name": "stdout"
        }
      ]
    },
    {
      "cell_type": "markdown",
      "metadata": {
        "id": "wzwnSR-txoPw"
      },
      "source": [
        "Levando a probabilidade de volta para o df"
      ]
    },
    {
      "cell_type": "code",
      "metadata": {
        "id": "P1SWSB-HF7Ns",
        "colab": {
          "base_uri": "https://localhost:8080/",
          "height": 424
        },
        "outputId": "03f6be0f-da7e-4cc0-e886-e5d69a76c9c5"
      },
      "source": [
        "df_ocorrencias['probabilidade'] = voto.predict_proba(x_final[x_treino.columns])[:,1]\n",
        "df_ocorrencias"
      ],
      "execution_count": 27,
      "outputs": [
        {
          "output_type": "execute_result",
          "data": {
            "text/html": [
              "<div>\n",
              "<style scoped>\n",
              "    .dataframe tbody tr th:only-of-type {\n",
              "        vertical-align: middle;\n",
              "    }\n",
              "\n",
              "    .dataframe tbody tr th {\n",
              "        vertical-align: top;\n",
              "    }\n",
              "\n",
              "    .dataframe thead th {\n",
              "        text-align: right;\n",
              "    }\n",
              "</style>\n",
              "<table border=\"1\" class=\"dataframe\">\n",
              "  <thead>\n",
              "    <tr style=\"text-align: right;\">\n",
              "      <th></th>\n",
              "      <th>ocorrencia_saida_pista</th>\n",
              "      <th>aeronave_tipo_veiculo</th>\n",
              "      <th>aeronave_motor_tipo</th>\n",
              "      <th>acidente</th>\n",
              "      <th>probabilidade</th>\n",
              "    </tr>\n",
              "  </thead>\n",
              "  <tbody>\n",
              "    <tr>\n",
              "      <th>0</th>\n",
              "      <td>NÃO</td>\n",
              "      <td>AVIÃO</td>\n",
              "      <td>PISTÃO</td>\n",
              "      <td>SIM</td>\n",
              "      <td>0.409</td>\n",
              "    </tr>\n",
              "    <tr>\n",
              "      <th>1</th>\n",
              "      <td>NÃO</td>\n",
              "      <td>AVIÃO</td>\n",
              "      <td>TURBOÉLICE</td>\n",
              "      <td>NÃO</td>\n",
              "      <td>0.144</td>\n",
              "    </tr>\n",
              "    <tr>\n",
              "      <th>2</th>\n",
              "      <td>NÃO</td>\n",
              "      <td>AVIÃO</td>\n",
              "      <td>TURBOÉLICE</td>\n",
              "      <td>NÃO</td>\n",
              "      <td>0.144</td>\n",
              "    </tr>\n",
              "    <tr>\n",
              "      <th>3</th>\n",
              "      <td>NÃO</td>\n",
              "      <td>AVIÃO</td>\n",
              "      <td>JATO</td>\n",
              "      <td>NÃO</td>\n",
              "      <td>0.015</td>\n",
              "    </tr>\n",
              "    <tr>\n",
              "      <th>4</th>\n",
              "      <td>NÃO</td>\n",
              "      <td>AVIÃO</td>\n",
              "      <td>JATO</td>\n",
              "      <td>NÃO</td>\n",
              "      <td>0.015</td>\n",
              "    </tr>\n",
              "    <tr>\n",
              "      <th>...</th>\n",
              "      <td>...</td>\n",
              "      <td>...</td>\n",
              "      <td>...</td>\n",
              "      <td>...</td>\n",
              "      <td>...</td>\n",
              "    </tr>\n",
              "    <tr>\n",
              "      <th>5747</th>\n",
              "      <td>NÃO</td>\n",
              "      <td>AVIÃO</td>\n",
              "      <td>JATO</td>\n",
              "      <td>NÃO</td>\n",
              "      <td>0.015</td>\n",
              "    </tr>\n",
              "    <tr>\n",
              "      <th>5748</th>\n",
              "      <td>NÃO</td>\n",
              "      <td>NÃO INFORMADO</td>\n",
              "      <td>JATO</td>\n",
              "      <td>NÃO</td>\n",
              "      <td>0.006</td>\n",
              "    </tr>\n",
              "    <tr>\n",
              "      <th>5749</th>\n",
              "      <td>NÃO</td>\n",
              "      <td>AVIÃO</td>\n",
              "      <td>PISTÃO</td>\n",
              "      <td>SIM</td>\n",
              "      <td>0.409</td>\n",
              "    </tr>\n",
              "    <tr>\n",
              "      <th>5750</th>\n",
              "      <td>NÃO</td>\n",
              "      <td>HELICÓPTERO</td>\n",
              "      <td>TURBOEIXO</td>\n",
              "      <td>NÃO</td>\n",
              "      <td>0.227</td>\n",
              "    </tr>\n",
              "    <tr>\n",
              "      <th>5751</th>\n",
              "      <td>NÃO</td>\n",
              "      <td>NÃO INFORMADO</td>\n",
              "      <td>NÃO INFORMADO</td>\n",
              "      <td>SIM</td>\n",
              "      <td>0.318</td>\n",
              "    </tr>\n",
              "  </tbody>\n",
              "</table>\n",
              "<p>5752 rows × 5 columns</p>\n",
              "</div>"
            ],
            "text/plain": [
              "     ocorrencia_saida_pista aeronave_tipo_veiculo aeronave_motor_tipo  \\\n",
              "0                       NÃO                 AVIÃO              PISTÃO   \n",
              "1                       NÃO                 AVIÃO          TURBOÉLICE   \n",
              "2                       NÃO                 AVIÃO          TURBOÉLICE   \n",
              "3                       NÃO                 AVIÃO                JATO   \n",
              "4                       NÃO                 AVIÃO                JATO   \n",
              "...                     ...                   ...                 ...   \n",
              "5747                    NÃO                 AVIÃO                JATO   \n",
              "5748                    NÃO         NÃO INFORMADO                JATO   \n",
              "5749                    NÃO                 AVIÃO              PISTÃO   \n",
              "5750                    NÃO           HELICÓPTERO           TURBOEIXO   \n",
              "5751                    NÃO         NÃO INFORMADO       NÃO INFORMADO   \n",
              "\n",
              "     acidente  probabilidade  \n",
              "0         SIM          0.409  \n",
              "1         NÃO          0.144  \n",
              "2         NÃO          0.144  \n",
              "3         NÃO          0.015  \n",
              "4         NÃO          0.015  \n",
              "...       ...            ...  \n",
              "5747      NÃO          0.015  \n",
              "5748      NÃO          0.006  \n",
              "5749      SIM          0.409  \n",
              "5750      NÃO          0.227  \n",
              "5751      SIM          0.318  \n",
              "\n",
              "[5752 rows x 5 columns]"
            ]
          },
          "metadata": {
            "tags": []
          },
          "execution_count": 27
        }
      ]
    },
    {
      "cell_type": "markdown",
      "metadata": {
        "id": "_XCr2vCBJ3I8"
      },
      "source": [
        "## Tratando DF final"
      ]
    },
    {
      "cell_type": "code",
      "metadata": {
        "id": "G95LUcsJF7QI"
      },
      "source": [
        "df_final = df_ocorrencias[['aeronave_tipo_veiculo','aeronave_motor_tipo','ocorrencia_saida_pista','probabilidade']].copy()\n",
        "df_final.sort_values(by=['probabilidade','aeronave_tipo_veiculo','aeronave_motor_tipo'], ascending=[False,True,True],inplace=True)\n",
        "df_final.drop_duplicates(['probabilidade','aeronave_tipo_veiculo','aeronave_motor_tipo'], keep='first', inplace=True)\n",
        "df_final = df_final.rename(columns={'aeronave_tipo_veiculo': 'Tipo de Veículo', 'aeronave_motor_tipo': 'Tipo de Motor',\n",
        "                                    'ocorrencia_saida_pista':'Acidente na saída de pista', 'probabilidade':'Probabilidade de ser Acidente'})\n",
        "\n",
        "#remove as linhas que tipo de veiculo nao foi informado\n",
        "df_final = df_final[~df_final['Tipo de Veículo'].str.contains('NÃO INFORMADO')]\n",
        "\n",
        "df_final.reset_index(drop=True, inplace=True)\n",
        "\n"
      ],
      "execution_count": 28,
      "outputs": []
    },
    {
      "cell_type": "code",
      "metadata": {
        "colab": {
          "base_uri": "https://localhost:8080/",
          "height": 865
        },
        "id": "3kCLhkh9zZZJ",
        "outputId": "21f5d9df-996f-4872-9404-5a067c80d091"
      },
      "source": [
        "df_final"
      ],
      "execution_count": 29,
      "outputs": [
        {
          "output_type": "execute_result",
          "data": {
            "text/html": [
              "<div>\n",
              "<style scoped>\n",
              "    .dataframe tbody tr th:only-of-type {\n",
              "        vertical-align: middle;\n",
              "    }\n",
              "\n",
              "    .dataframe tbody tr th {\n",
              "        vertical-align: top;\n",
              "    }\n",
              "\n",
              "    .dataframe thead th {\n",
              "        text-align: right;\n",
              "    }\n",
              "</style>\n",
              "<table border=\"1\" class=\"dataframe\">\n",
              "  <thead>\n",
              "    <tr style=\"text-align: right;\">\n",
              "      <th></th>\n",
              "      <th>Tipo de Veículo</th>\n",
              "      <th>Tipo de Motor</th>\n",
              "      <th>Acidente na saída de pista</th>\n",
              "      <th>Probabilidade de ser Acidente</th>\n",
              "    </tr>\n",
              "  </thead>\n",
              "  <tbody>\n",
              "    <tr>\n",
              "      <th>0</th>\n",
              "      <td>TRIKE</td>\n",
              "      <td>NÃO INFORMADO</td>\n",
              "      <td>NÃO</td>\n",
              "      <td>0.985</td>\n",
              "    </tr>\n",
              "    <tr>\n",
              "      <th>1</th>\n",
              "      <td>PLANADOR</td>\n",
              "      <td>NÃO INFORMADO</td>\n",
              "      <td>NÃO</td>\n",
              "      <td>0.902</td>\n",
              "    </tr>\n",
              "    <tr>\n",
              "      <th>2</th>\n",
              "      <td>PLANADOR</td>\n",
              "      <td>SEM TRAÇÃO</td>\n",
              "      <td>SIM</td>\n",
              "      <td>0.901</td>\n",
              "    </tr>\n",
              "    <tr>\n",
              "      <th>3</th>\n",
              "      <td>AVIÃO</td>\n",
              "      <td>NÃO INFORMADO</td>\n",
              "      <td>SIM</td>\n",
              "      <td>0.895</td>\n",
              "    </tr>\n",
              "    <tr>\n",
              "      <th>4</th>\n",
              "      <td>BALÃO</td>\n",
              "      <td>SEM TRAÇÃO</td>\n",
              "      <td>NÃO</td>\n",
              "      <td>0.893</td>\n",
              "    </tr>\n",
              "    <tr>\n",
              "      <th>5</th>\n",
              "      <td>HELICÓPTERO</td>\n",
              "      <td>PISTÃO</td>\n",
              "      <td>NÃO</td>\n",
              "      <td>0.747</td>\n",
              "    </tr>\n",
              "    <tr>\n",
              "      <th>6</th>\n",
              "      <td>ANFÍBIO</td>\n",
              "      <td>TURBOÉLICE</td>\n",
              "      <td>NÃO</td>\n",
              "      <td>0.717</td>\n",
              "    </tr>\n",
              "    <tr>\n",
              "      <th>7</th>\n",
              "      <td>ULTRALEVE</td>\n",
              "      <td>PISTÃO</td>\n",
              "      <td>NÃO</td>\n",
              "      <td>0.716</td>\n",
              "    </tr>\n",
              "    <tr>\n",
              "      <th>8</th>\n",
              "      <td>ULTRALEVE</td>\n",
              "      <td>NÃO INFORMADO</td>\n",
              "      <td>NÃO</td>\n",
              "      <td>0.626</td>\n",
              "    </tr>\n",
              "    <tr>\n",
              "      <th>9</th>\n",
              "      <td>PLANADOR</td>\n",
              "      <td>SEM TRAÇÃO</td>\n",
              "      <td>NÃO</td>\n",
              "      <td>0.597</td>\n",
              "    </tr>\n",
              "    <tr>\n",
              "      <th>10</th>\n",
              "      <td>AVIÃO</td>\n",
              "      <td>PISTÃO</td>\n",
              "      <td>SIM</td>\n",
              "      <td>0.559</td>\n",
              "    </tr>\n",
              "    <tr>\n",
              "      <th>11</th>\n",
              "      <td>ULTRALEVE</td>\n",
              "      <td>PISTÃO</td>\n",
              "      <td>SIM</td>\n",
              "      <td>0.507</td>\n",
              "    </tr>\n",
              "    <tr>\n",
              "      <th>12</th>\n",
              "      <td>TRIKE</td>\n",
              "      <td>PISTÃO</td>\n",
              "      <td>NÃO</td>\n",
              "      <td>0.507</td>\n",
              "    </tr>\n",
              "    <tr>\n",
              "      <th>13</th>\n",
              "      <td>DIRIGÍVEL</td>\n",
              "      <td>PISTÃO</td>\n",
              "      <td>NÃO</td>\n",
              "      <td>0.460</td>\n",
              "    </tr>\n",
              "    <tr>\n",
              "      <th>14</th>\n",
              "      <td>HIDROAVIÃO</td>\n",
              "      <td>PISTÃO</td>\n",
              "      <td>NÃO</td>\n",
              "      <td>0.460</td>\n",
              "    </tr>\n",
              "    <tr>\n",
              "      <th>15</th>\n",
              "      <td>AVIÃO</td>\n",
              "      <td>NÃO INFORMADO</td>\n",
              "      <td>NÃO</td>\n",
              "      <td>0.439</td>\n",
              "    </tr>\n",
              "    <tr>\n",
              "      <th>16</th>\n",
              "      <td>AVIÃO</td>\n",
              "      <td>PISTÃO</td>\n",
              "      <td>NÃO</td>\n",
              "      <td>0.409</td>\n",
              "    </tr>\n",
              "    <tr>\n",
              "      <th>17</th>\n",
              "      <td>AVIÃO</td>\n",
              "      <td>TURBOÉLICE</td>\n",
              "      <td>SIM</td>\n",
              "      <td>0.352</td>\n",
              "    </tr>\n",
              "    <tr>\n",
              "      <th>18</th>\n",
              "      <td>AVIÃO</td>\n",
              "      <td>JATO</td>\n",
              "      <td>SIM</td>\n",
              "      <td>0.323</td>\n",
              "    </tr>\n",
              "    <tr>\n",
              "      <th>19</th>\n",
              "      <td>HELICÓPTERO</td>\n",
              "      <td>TURBOEIXO</td>\n",
              "      <td>NÃO</td>\n",
              "      <td>0.227</td>\n",
              "    </tr>\n",
              "    <tr>\n",
              "      <th>20</th>\n",
              "      <td>HELICÓPTERO</td>\n",
              "      <td>TURBOÉLICE</td>\n",
              "      <td>NÃO</td>\n",
              "      <td>0.224</td>\n",
              "    </tr>\n",
              "    <tr>\n",
              "      <th>21</th>\n",
              "      <td>ANFÍBIO</td>\n",
              "      <td>PISTÃO</td>\n",
              "      <td>NÃO</td>\n",
              "      <td>0.202</td>\n",
              "    </tr>\n",
              "    <tr>\n",
              "      <th>22</th>\n",
              "      <td>AVIÃO</td>\n",
              "      <td>TURBOÉLICE</td>\n",
              "      <td>NÃO</td>\n",
              "      <td>0.144</td>\n",
              "    </tr>\n",
              "    <tr>\n",
              "      <th>23</th>\n",
              "      <td>ANFÍBIO</td>\n",
              "      <td>PISTÃO</td>\n",
              "      <td>SIM</td>\n",
              "      <td>0.100</td>\n",
              "    </tr>\n",
              "    <tr>\n",
              "      <th>24</th>\n",
              "      <td>AVIÃO</td>\n",
              "      <td>JATO</td>\n",
              "      <td>NÃO</td>\n",
              "      <td>0.015</td>\n",
              "    </tr>\n",
              "    <tr>\n",
              "      <th>25</th>\n",
              "      <td>AVIÃO</td>\n",
              "      <td>TURBOEIXO</td>\n",
              "      <td>NÃO</td>\n",
              "      <td>0.003</td>\n",
              "    </tr>\n",
              "  </tbody>\n",
              "</table>\n",
              "</div>"
            ],
            "text/plain": [
              "   Tipo de Veículo  Tipo de Motor Acidente na saída de pista  \\\n",
              "0            TRIKE  NÃO INFORMADO                        NÃO   \n",
              "1         PLANADOR  NÃO INFORMADO                        NÃO   \n",
              "2         PLANADOR     SEM TRAÇÃO                        SIM   \n",
              "3            AVIÃO  NÃO INFORMADO                        SIM   \n",
              "4            BALÃO     SEM TRAÇÃO                        NÃO   \n",
              "5      HELICÓPTERO         PISTÃO                        NÃO   \n",
              "6          ANFÍBIO     TURBOÉLICE                        NÃO   \n",
              "7        ULTRALEVE         PISTÃO                        NÃO   \n",
              "8        ULTRALEVE  NÃO INFORMADO                        NÃO   \n",
              "9         PLANADOR     SEM TRAÇÃO                        NÃO   \n",
              "10           AVIÃO         PISTÃO                        SIM   \n",
              "11       ULTRALEVE         PISTÃO                        SIM   \n",
              "12           TRIKE         PISTÃO                        NÃO   \n",
              "13       DIRIGÍVEL         PISTÃO                        NÃO   \n",
              "14      HIDROAVIÃO         PISTÃO                        NÃO   \n",
              "15           AVIÃO  NÃO INFORMADO                        NÃO   \n",
              "16           AVIÃO         PISTÃO                        NÃO   \n",
              "17           AVIÃO     TURBOÉLICE                        SIM   \n",
              "18           AVIÃO           JATO                        SIM   \n",
              "19     HELICÓPTERO      TURBOEIXO                        NÃO   \n",
              "20     HELICÓPTERO     TURBOÉLICE                        NÃO   \n",
              "21         ANFÍBIO         PISTÃO                        NÃO   \n",
              "22           AVIÃO     TURBOÉLICE                        NÃO   \n",
              "23         ANFÍBIO         PISTÃO                        SIM   \n",
              "24           AVIÃO           JATO                        NÃO   \n",
              "25           AVIÃO      TURBOEIXO                        NÃO   \n",
              "\n",
              "    Probabilidade de ser Acidente  \n",
              "0                           0.985  \n",
              "1                           0.902  \n",
              "2                           0.901  \n",
              "3                           0.895  \n",
              "4                           0.893  \n",
              "5                           0.747  \n",
              "6                           0.717  \n",
              "7                           0.716  \n",
              "8                           0.626  \n",
              "9                           0.597  \n",
              "10                          0.559  \n",
              "11                          0.507  \n",
              "12                          0.507  \n",
              "13                          0.460  \n",
              "14                          0.460  \n",
              "15                          0.439  \n",
              "16                          0.409  \n",
              "17                          0.352  \n",
              "18                          0.323  \n",
              "19                          0.227  \n",
              "20                          0.224  \n",
              "21                          0.202  \n",
              "22                          0.144  \n",
              "23                          0.100  \n",
              "24                          0.015  \n",
              "25                          0.003  "
            ]
          },
          "metadata": {
            "tags": []
          },
          "execution_count": 29
        }
      ]
    }
  ]
}